{
 "cells": [
  {
   "attachments": {},
   "cell_type": "markdown",
   "metadata": {},
   "source": [
    "## Data Preprocessing and Model Training"
   ]
  },
  {
   "cell_type": "code",
   "execution_count": 23,
   "metadata": {},
   "outputs": [],
   "source": [
    "# General Libraries:\n",
    "import cv2\n",
    "import os\n",
    "from PIL import Image\n",
    "import numpy as np\n",
    "from sklearn.utils import shuffle\n",
    "from collections import Counter\n",
    "from sklearn.model_selection import train_test_split\n",
    "from sklearn.preprocessing import LabelEncoder\n",
    "import matplotlib.pyplot as plt\n",
    "import seaborn as sns\n",
    "from sklearn.metrics import confusion_matrix, classification_report\n",
    "\n",
    "# Deep Learning libraries:\n",
    "import tensorflow as tf\n",
    "from tensorflow import keras\n",
    "from keras import layers, models\n",
    "from keras.optimizers import RMSprop\n",
    "from keras.preprocessing.image import ImageDataGenerator\n",
    "from keras.applications import VGG16\n",
    "from keras.models import Sequential\n",
    "from keras.layers import Conv2D, MaxPooling2D, Flatten, Dense, Dropout, BatchNormalization\n",
    "from keras.optimizers import Adam\n",
    "from keras.utils import to_categorical\n",
    "from keras import regularizers\n",
    "\n"
   ]
  },
  {
   "attachments": {},
   "cell_type": "markdown",
   "metadata": {},
   "source": [
    "### Data Loading and Cleaning"
   ]
  },
  {
   "cell_type": "code",
   "execution_count": 2,
   "metadata": {},
   "outputs": [],
   "source": [
    "def load_data(directory):\n",
    "    images = []\n",
    "    labels = []\n",
    "\n",
    "    for label in os.listdir(directory):\n",
    "        for image in os.listdir(os.path.join(directory, label)):\n",
    "            img_path = os.path.join(directory, label, image)\n",
    "\n",
    "            # Read and resize the image using Pillow\n",
    "            img = Image.open(img_path)\n",
    "            img_array = np.array(img)\n",
    "\n",
    "            # Append the image array and the label to the lists\n",
    "            images.append(img_array)\n",
    "            labels.append(label)\n",
    "\n",
    "    # Shuffle the arrays using sklearn.utils.shuffle\n",
    "    images, labels = shuffle(images, labels, random_state=42)\n",
    "\n",
    "    return images, labels"
   ]
  },
  {
   "cell_type": "code",
   "execution_count": 3,
   "metadata": {},
   "outputs": [],
   "source": [
    "train_dir = r'C:\\Users\\andmpereira\\OneDrive - Grupo Jerónimo Martins\\Documentos\\GitHub\\DLNN-Group2\\00 - Dataset\\Training'\n",
    "test_dir = r'C:\\Users\\andmpereira\\OneDrive - Grupo Jerónimo Martins\\Documentos\\GitHub\\DLNN-Group2\\00 - Dataset\\Testing'\n",
    "\n",
    "# Load training data\n",
    "train_images, train_labels = load_data(train_dir)\n",
    "\n",
    "# Load testing data\n",
    "test_images, test_labels = load_data(test_dir)"
   ]
  },
  {
   "cell_type": "code",
   "execution_count": 4,
   "metadata": {},
   "outputs": [
    {
     "name": "stdout",
     "output_type": "stream",
     "text": [
      "Number of Images in Train Set: 5712\n",
      "Number of Labels in Train Set: 5712\n",
      "Number of Images in Test Set: 1311\n",
      "Number of Labels in Test Set: 1311\n"
     ]
    }
   ],
   "source": [
    "# Check data structure\n",
    "\n",
    "num_train_images = len(train_images)\n",
    "num_test_images = len(test_images)\n",
    "num_train_labels = len(train_labels)\n",
    "num_test_labels = len(test_labels)\n",
    "\n",
    "print(\"Number of Images in Train Set:\", num_train_images)\n",
    "print(\"Number of Labels in Train Set:\", num_train_labels)\n",
    "print(\"Number of Images in Test Set:\", num_test_images)\n",
    "print(\"Number of Labels in Test Set:\", num_test_labels)"
   ]
  },
  {
   "cell_type": "code",
   "execution_count": 5,
   "metadata": {},
   "outputs": [],
   "source": [
    "def remove_duplicates(images, labels):\n",
    "    unique_pairs = set()\n",
    "    unique_images = []\n",
    "    unique_labels = []\n",
    "    num_removed = 0\n",
    "\n",
    "    for img, label in zip(images, labels):\n",
    "        img_str = img.tobytes()\n",
    "        pair = (img_str, label)\n",
    "\n",
    "        # Check if the pair is unique\n",
    "        if pair not in unique_pairs:\n",
    "            unique_pairs.add(pair)\n",
    "            unique_images.append(img)\n",
    "            unique_labels.append(label)\n",
    "        else:\n",
    "            num_removed += 1\n",
    "\n",
    "    print(f\"Removed {num_removed} duplicate images.\")\n",
    "    \n",
    "    return shuffle(unique_images, unique_labels, random_state=99)"
   ]
  },
  {
   "cell_type": "code",
   "execution_count": 6,
   "metadata": {},
   "outputs": [
    {
     "name": "stdout",
     "output_type": "stream",
     "text": [
      "Removed 207 duplicate images.\n",
      "Removed 30 duplicate images.\n"
     ]
    }
   ],
   "source": [
    "# Remove duplicates from training data\n",
    "train_images, train_labels = remove_duplicates(train_images, train_labels)\n",
    "\n",
    "# Remove duplicates from testing data\n",
    "test_images, test_labels = remove_duplicates(test_images, test_labels)"
   ]
  },
  {
   "cell_type": "code",
   "execution_count": 7,
   "metadata": {},
   "outputs": [
    {
     "name": "stdout",
     "output_type": "stream",
     "text": [
      "\n",
      "Class Distribution in Training Dataset:\n",
      "Class glioma: 1321 images\n",
      "Class meningioma: 1333 images\n",
      "Class notumor: 1406 images\n",
      "Class pituitary: 1445 images\n",
      "Total number of images in Training Dataset: 5505\n",
      "\n",
      "Class Distribution in Testing Dataset:\n",
      "Class glioma: 299 images\n",
      "Class meningioma: 301 images\n",
      "Class notumor: 381 images\n",
      "Class pituitary: 300 images\n",
      "Total number of images in Testing Dataset: 1281\n"
     ]
    }
   ],
   "source": [
    "def print_class_distribution(labels, dataset_name):\n",
    "    unique_classes, class_counts = np.unique(labels, return_counts=True)\n",
    "    \n",
    "    print(f\"\\nClass Distribution in {dataset_name} Dataset:\")\n",
    "    for class_label, count in zip(unique_classes, class_counts):\n",
    "        print(f\"Class {class_label}: {count} images\")\n",
    "    \n",
    "    total_images = len(labels)\n",
    "    print(f\"Total number of images in {dataset_name} Dataset: {total_images}\")\n",
    "\n",
    "# Print training data class distribution\n",
    "print_class_distribution(train_labels, 'Training')\n",
    "\n",
    "# Print testing data class distribution\n",
    "print_class_distribution(test_labels, 'Testing')\n"
   ]
  },
  {
   "attachments": {},
   "cell_type": "markdown",
   "metadata": {},
   "source": [
    "### Data Preprocessing"
   ]
  },
  {
   "cell_type": "code",
   "execution_count": 8,
   "metadata": {},
   "outputs": [],
   "source": [
    "# Split the training data into training and validation sets\n",
    "train_images, val_images, train_labels, val_labels = train_test_split(train_images, train_labels, test_size=0.2, random_state=99)\n"
   ]
  },
  {
   "cell_type": "code",
   "execution_count": 9,
   "metadata": {},
   "outputs": [],
   "source": [
    "def preprocess_images(images, desired_size, normalize=True):\n",
    "    preprocessed_images = []\n",
    "\n",
    "    for img_array in images:\n",
    "        # Convert numpy array to Pillow Image\n",
    "        img = Image.fromarray(img_array)\n",
    "\n",
    "        # Convert grayscale images to RGB\n",
    "        if img.mode != 'RGB':\n",
    "            img = img.convert('RGB')\n",
    "\n",
    "        # Resize the image\n",
    "        img = img.resize(desired_size)\n",
    "\n",
    "        # Convert the image back to a numpy array\n",
    "        img_array = np.array(img)\n",
    "\n",
    "        # Normalize pixel values to the range [0, 1]\n",
    "        if normalize:\n",
    "            img_array = img_array / 255.0\n",
    "\n",
    "        preprocessed_images.append(img_array)\n",
    "\n",
    "    return preprocessed_images"
   ]
  },
  {
   "cell_type": "code",
   "execution_count": 10,
   "metadata": {},
   "outputs": [],
   "source": [
    "width = 224 \n",
    "height = 224\n",
    "\n",
    "train_images_processed = preprocess_images(train_images, desired_size=(width,height))\n",
    "val_images_processed = preprocess_images(val_images, desired_size=(width,height))\n",
    "test_images_processed = preprocess_images(test_images, desired_size=(width,height))\n",
    "\n",
    "train_images_processed = np.array(train_images_processed)\n",
    "val_images_processed = np.array(val_images_processed)"
   ]
  },
  {
   "cell_type": "code",
   "execution_count": 11,
   "metadata": {},
   "outputs": [],
   "source": [
    "\n",
    "label_encoder = LabelEncoder()\n",
    "train_labels_encoded = label_encoder.fit_transform(train_labels)\n",
    "val_labels_encoded = label_encoder.transform(val_labels)\n",
    "test_labels_encoded = label_encoder.transform(test_labels)\n",
    "\n",
    "num_classes = len(label_encoder.classes_)\n",
    "\n",
    "train_labels_one_hot = to_categorical(train_labels_encoded, num_classes=num_classes)\n",
    "val_labels_one_hot = to_categorical(val_labels_encoded, num_classes=num_classes)\n",
    "test_labels_one_hot = to_categorical(test_labels_encoded, num_classes=num_classes)"
   ]
  },
  {
   "attachments": {},
   "cell_type": "markdown",
   "metadata": {},
   "source": [
    "### Data Augmentation"
   ]
  },
  {
   "cell_type": "code",
   "execution_count": 12,
   "metadata": {},
   "outputs": [],
   "source": [
    "# Create an ImageDataGenerator with data augmentation parameters\n",
    "datagen = ImageDataGenerator(\n",
    "    rotation_range=20,\n",
    "    width_shift_range=0.2,\n",
    "    height_shift_range=0.2,\n",
    "    shear_range=0.2,\n",
    "    zoom_range=0.2,\n",
    "    horizontal_flip=True,\n",
    "    fill_mode='nearest'\n",
    ")\n",
    "\n",
    "val_datagen = ImageDataGenerator()\n",
    "\n",
    "# Preprocess and augment training data\n",
    "train_generator = datagen.flow(np.array(train_images_processed), train_labels_one_hot, batch_size=32)\n",
    "val_generator = val_datagen.flow(np.array(val_images_processed), val_labels_one_hot, batch_size=32)"
   ]
  },
  {
   "attachments": {},
   "cell_type": "markdown",
   "metadata": {},
   "source": [
    "### Model Architecture"
   ]
  },
  {
   "cell_type": "code",
   "execution_count": 13,
   "metadata": {},
   "outputs": [
    {
     "name": "stdout",
     "output_type": "stream",
     "text": [
      "Model: \"sequential\"\n",
      "_________________________________________________________________\n",
      " Layer (type)                Output Shape              Param #   \n",
      "=================================================================\n",
      " conv2d (Conv2D)             (None, 222, 222, 32)      896       \n",
      "                                                                 \n",
      " max_pooling2d (MaxPooling2  (None, 111, 111, 32)      0         \n",
      " D)                                                              \n",
      "                                                                 \n",
      " conv2d_1 (Conv2D)           (None, 109, 109, 64)      18496     \n",
      "                                                                 \n",
      " max_pooling2d_1 (MaxPoolin  (None, 54, 54, 64)        0         \n",
      " g2D)                                                            \n",
      "                                                                 \n",
      " conv2d_2 (Conv2D)           (None, 52, 52, 128)       73856     \n",
      "                                                                 \n",
      " max_pooling2d_2 (MaxPoolin  (None, 26, 26, 128)       0         \n",
      " g2D)                                                            \n",
      "                                                                 \n",
      " flatten (Flatten)           (None, 86528)             0         \n",
      "                                                                 \n",
      " dense (Dense)               (None, 128)               11075712  \n",
      "                                                                 \n",
      " dense_1 (Dense)             (None, 4)                 516       \n",
      "                                                                 \n",
      "=================================================================\n",
      "Total params: 11169476 (42.61 MB)\n",
      "Trainable params: 11169476 (42.61 MB)\n",
      "Non-trainable params: 0 (0.00 Byte)\n",
      "_________________________________________________________________\n"
     ]
    }
   ],
   "source": [
    "# Define the CNN model\n",
    "model = models.Sequential()\n",
    "\n",
    "# Convolutional layer with 32 filters, 3x3 kernel, and ReLU activation\n",
    "model.add(layers.Conv2D(32, (3, 3), activation='relu', input_shape=(224, 224, 3)))\n",
    "# Max pooling layer\n",
    "model.add(layers.MaxPooling2D((2, 2)))\n",
    "\n",
    "# Convolutional layer with 64 filters, 3x3 kernel, and ReLU activation\n",
    "model.add(layers.Conv2D(64, (3, 3), activation='relu'))\n",
    "# Max pooling layer\n",
    "model.add(layers.MaxPooling2D((2, 2)))\n",
    "\n",
    "# Convolutional layer with 128 filters, 3x3 kernel, and ReLU activation\n",
    "model.add(layers.Conv2D(128, (3, 3), activation='relu'))\n",
    "# Max pooling layer\n",
    "model.add(layers.MaxPooling2D((2, 2)))\n",
    "\n",
    "# Flatten layer to convert 3D feature maps to 1D feature vectors\n",
    "model.add(layers.Flatten())\n",
    "\n",
    "# Dense layer with 128 neurons and ReLU activation\n",
    "model.add(layers.Dense(128, activation='relu'))\n",
    "\n",
    "# Output layer with 4 neurons (for 4 tumor types) and softmax activation\n",
    "model.add(layers.Dense(4, activation='softmax'))\n",
    "\n",
    "# Compile the model\n",
    "model.compile(RMSprop(learning_rate=0.0001),\n",
    "              loss='categorical_crossentropy',\n",
    "              metrics=['accuracy'])\n",
    "\n",
    "# Display the model summary\n",
    "model.summary()"
   ]
  },
  {
   "cell_type": "code",
   "execution_count": 15,
   "metadata": {},
   "outputs": [
    {
     "name": "stdout",
     "output_type": "stream",
     "text": [
      "Epoch 1/10\n",
      "138/138 [==============================] - ETA: 0s - loss: 1.2334 - accuracy: 0.3881"
     ]
    },
    {
     "name": "stderr",
     "output_type": "stream",
     "text": [
      "C:\\Users\\andmpereira\\AppData\\Roaming\\Python\\Python38\\site-packages\\keras\\src\\engine\\training.py:3000: UserWarning: You are saving your model as an HDF5 file via `model.save()`. This file format is considered legacy. We recommend using instead the native Keras format, e.g. `model.save('my_model.keras')`.\n",
      "  saving_api.save_model(\n"
     ]
    },
    {
     "name": "stdout",
     "output_type": "stream",
     "text": [
      "138/138 [==============================] - 325s 2s/step - loss: 1.2334 - accuracy: 0.3881 - val_loss: 0.9823 - val_accuracy: 0.5604\n",
      "Epoch 2/10\n",
      "138/138 [==============================] - 353s 3s/step - loss: 1.0151 - accuracy: 0.5645 - val_loss: 0.8921 - val_accuracy: 0.6440\n",
      "Epoch 3/10\n",
      "138/138 [==============================] - 375s 3s/step - loss: 0.9254 - accuracy: 0.6222 - val_loss: 0.8144 - val_accuracy: 0.6903\n",
      "Epoch 4/10\n",
      "138/138 [==============================] - 354s 3s/step - loss: 0.8699 - accuracy: 0.6469 - val_loss: 0.8907 - val_accuracy: 0.6394\n",
      "Epoch 5/10\n",
      "138/138 [==============================] - 368s 3s/step - loss: 0.8228 - accuracy: 0.6701 - val_loss: 1.1211 - val_accuracy: 0.6004\n",
      "Epoch 6/10\n",
      "138/138 [==============================] - 387s 3s/step - loss: 0.7923 - accuracy: 0.6839 - val_loss: 0.7903 - val_accuracy: 0.6948\n",
      "Epoch 7/10\n",
      "138/138 [==============================] - 472s 3s/step - loss: 0.7636 - accuracy: 0.7028 - val_loss: 0.6546 - val_accuracy: 0.7820\n",
      "Epoch 8/10\n",
      "138/138 [==============================] - 381s 3s/step - loss: 0.7409 - accuracy: 0.7078 - val_loss: 0.6209 - val_accuracy: 0.7575\n",
      "Epoch 9/10\n",
      "138/138 [==============================] - 388s 3s/step - loss: 0.7293 - accuracy: 0.7044 - val_loss: 0.5973 - val_accuracy: 0.8093\n",
      "Epoch 10/10\n",
      "138/138 [==============================] - 353s 3s/step - loss: 0.6973 - accuracy: 0.7218 - val_loss: 0.6826 - val_accuracy: 0.7502\n"
     ]
    }
   ],
   "source": [
    "# Specify the number of training steps per epoch and validation steps\n",
    "train_steps_per_epoch = len(train_generator)\n",
    "val_steps_per_epoch = len(val_generator)\n",
    "\n",
    "# Fit the model\n",
    "history = model.fit(\n",
    "    train_generator,\n",
    "    steps_per_epoch=train_steps_per_epoch,\n",
    "    epochs=10,  # Adjust the number of epochs based on your needs\n",
    "    validation_data=val_generator,\n",
    "    validation_steps=val_steps_per_epoch)"
   ]
  },
  {
   "cell_type": "code",
   "execution_count": 16,
   "metadata": {},
   "outputs": [
    {
     "name": "stdout",
     "output_type": "stream",
     "text": [
      "35/35 [==============================] - 17s 457ms/step - loss: 0.6826 - accuracy: 0.7502\n",
      "Validation Metrics: [0.6825965046882629, 0.7502270936965942]\n"
     ]
    }
   ],
   "source": [
    "val_metrics = model.evaluate(val_generator, steps=val_steps_per_epoch)\n",
    "print(\"Validation Metrics:\", val_metrics)"
   ]
  },
  {
   "cell_type": "code",
   "execution_count": 17,
   "metadata": {},
   "outputs": [
    {
     "data": {
      "image/png": "[encoded data removed]",
      "text/plain": [
       "<Figure size 432x288 with 1 Axes>"
      ]
     },
     "metadata": {
      "needs_background": "light"
     },
     "output_type": "display_data"
    },
    {
     "data": {
      "image/png": "[encoded data removed]",
      "text/plain": [
       "<Figure size 432x288 with 1 Axes>"
      ]
     },
     "metadata": {
      "needs_background": "light"
     },
     "output_type": "display_data"
    }
   ],
   "source": [
    "# Plot training history\n",
    "plt.plot(history.history['loss'], label='Training Loss')\n",
    "plt.plot(history.history['val_loss'], label='Validation Loss')\n",
    "plt.xlabel('Epochs')\n",
    "plt.ylabel('Loss')\n",
    "plt.legend()\n",
    "plt.show()\n",
    "\n",
    "plt.plot(history.history['accuracy'], label='Training Accuracy')\n",
    "plt.plot(history.history['val_accuracy'], label='Validation Accuracy')\n",
    "plt.xlabel('Epochs')\n",
    "plt.ylabel('Accuracy')\n",
    "plt.legend()\n",
    "plt.show()"
   ]
  },
  {
   "cell_type": "code",
   "execution_count": 18,
   "metadata": {},
   "outputs": [
    {
     "name": "stdout",
     "output_type": "stream",
     "text": [
      "41/41 [==============================] - 19s 435ms/step - loss: 0.9554 - accuracy: 0.7096\n",
      "Test Metrics: [0.9554257392883301, 0.709601879119873]\n"
     ]
    }
   ],
   "source": [
    "test_generator = val_datagen.flow(np.array(test_images_processed), test_labels_one_hot, batch_size=32)\n",
    "\n",
    "test_steps_per_epoch = len(test_generator)\n",
    "test_metrics = model.evaluate(test_generator, steps=test_steps_per_epoch)\n",
    "print(\"Test Metrics:\", test_metrics)"
   ]
  },
  {
   "cell_type": "code",
   "execution_count": 22,
   "metadata": {},
   "outputs": [
    {
     "name": "stdout",
     "output_type": "stream",
     "text": [
      "41/41 [==============================] - 25s 604ms/step\n",
      "Confusion Matrix:\n",
      "[[178  29  14  78]\n",
      " [ 38  73  90 100]\n",
      " [  1   1 370   9]\n",
      " [  1   1  10 288]]\n"
     ]
    },
    {
     "data": {
      "image/png": "[encoded data removed]",
      "text/plain": [
       "<Figure size 432x288 with 2 Axes>"
      ]
     },
     "metadata": {
      "needs_background": "light"
     },
     "output_type": "display_data"
    },
    {
     "name": "stdout",
     "output_type": "stream",
     "text": [
      "Classification Report:\n",
      "              precision    recall  f1-score   support\n",
      "\n",
      "           0       0.82      0.60      0.69       299\n",
      "           1       0.70      0.24      0.36       301\n",
      "           2       0.76      0.97      0.86       381\n",
      "           3       0.61      0.96      0.74       300\n",
      "\n",
      "    accuracy                           0.71      1281\n",
      "   macro avg       0.72      0.69      0.66      1281\n",
      "weighted avg       0.72      0.71      0.67      1281\n",
      "\n"
     ]
    }
   ],
   "source": [
    "# Get true labels\n",
    "true_labels = []\n",
    "for i in range(test_steps_per_epoch):\n",
    "    _, labels = next(test_generator)\n",
    "    true_labels.extend(np.argmax(labels, axis=1))\n",
    "\n",
    "# Get predicted labels\n",
    "predicted_labels = model.predict(test_generator, steps=test_steps_per_epoch)\n",
    "predicted_labels = np.argmax(predicted_labels, axis=1)\n",
    "\n",
    "# Create confusion matrix\n",
    "conf_matrix = confusion_matrix(true_labels, predicted_labels)\n",
    "\n",
    "sns.heatmap(conf_matrix, annot=True, fmt='d', cmap='Blues', xticklabels=['Glioma','Meningioma','No Tumor','Pituitary'], yticklabels=['Glioma','Meningioma','No Tumor','Pituitary'])\n",
    "plt.xlabel('Predicted Label')\n",
    "plt.ylabel('True Label')\n",
    "plt.title('Confusion Matrix')\n",
    "plt.show()\n",
    "\n",
    "# Print classification report\n",
    "print(\"Classification Report:\")\n",
    "print(classification_report(true_labels, predicted_labels))\n",
    "\n"
   ]
  },
  {
   "attachments": {},
   "cell_type": "markdown",
   "metadata": {},
   "source": [
    "### Handling Overfitting"
   ]
  },
  {
   "attachments": {},
   "cell_type": "markdown",
   "metadata": {},
   "source": [
    "- Simplified the network to just 2 Conv2D with Max Pooling layers.\n",
    "- Added Dropout and BatchNormalization\n",
    "- Added L2 regularization\n",
    "- Used Early Stopping to ensure improvement"
   ]
  },
  {
   "cell_type": "code",
   "execution_count": null,
   "metadata": {},
   "outputs": [],
   "source": [
    "from keras.models import Sequential\n",
    "from keras.layers import Conv2D, MaxPooling2D, Flatten, Dense, Dropout, BatchNormalization\n",
    "from keras.optimizers import RMSprop\n",
    "from keras import regularizers\n",
    "\n",
    "# Define the CNN model\n",
    "new_model = Sequential()\n",
    "\n",
    "# Convolutional layer with 32 filters, 3x3 kernel, and ReLU activation\n",
    "new_model.add(Conv2D(32, (3, 3), activation='relu', input_shape=(224, 224, 3)))\n",
    "# Max pooling layer_\n",
    "new_model.add(MaxPooling2D((2, 2)))\n",
    "new_model.add(BatchNormalization())\n",
    "\n",
    "# Convolutional layer with 64 filters, 3x3 kernel, and ReLU activation\n",
    "new_model.add(Conv2D(64, (3, 3), activation='relu'))\n",
    "# Max pooling layer\n",
    "new_model.add(MaxPooling2D((2, 2)))\n",
    "new_model.add(BatchNormalization())\n",
    "new_model.add(Dropout(0.2))  # Experiment with dropout rate\n",
    "\n",
    "# Flatten layer to convert 3D feature maps to 1D feature vectors\n",
    "new_model.add(Flatten())\n",
    "\n",
    "# Dense layer with 128 neurons, ReLU activation, L2 regularization, and Batch Normalization\n",
    "new_model.add(Dense(128, activation='relu', kernel_regularizer=regularizers.l2(0.01)))\n",
    "new_model.add(BatchNormalization())\n",
    "new_model.add(Dropout(0.4))  # Experiment with dropout rate\n",
    "\n",
    "# Output layer with 4 neurons (for 4 tumor types) and softmax activation\n",
    "new_model.add(Dense(4, activation='softmax'))\n",
    "\n",
    "# Compile the model with a lower learning rate\n",
    "new_model.compile(RMSprop(learning_rate=0.00001),\n",
    "              loss='categorical_crossentropy',\n",
    "              metrics=['accuracy'])\n",
    "\n",
    "# Display the updated model summary\n",
    "new_model.summary()\n"
   ]
  },
  {
   "cell_type": "code",
   "execution_count": null,
   "metadata": {},
   "outputs": [],
   "source": [
    "\n",
    "from keras.callbacks import EarlyStopping\n",
    "from keras.preprocessing.image import ImageDataGenerator\n",
    "\n",
    "# Assuming you have your data generators and train/validation sets\n",
    "# Replace 'train_generator' and 'val_generator' with your actual generators\n",
    "train_steps_per_epoch = len(train_generator)\n",
    "val_steps_per_epoch = len(val_generator)\n",
    "\n",
    "\n",
    "# Compile the new model\n",
    "new_model.compile(RMSprop(learning_rate=0.00001),\n",
    "                  loss='categorical_crossentropy',\n",
    "                  metrics=['accuracy'])\n",
    "\n",
    "# Define early stopping callback\n",
    "early_stopping = EarlyStopping(monitor='val_loss', patience=3, restore_best_weights=True)\n",
    "\n",
    "# Fit the new model with early stopping\n",
    "new_history = new_model.fit(\n",
    "    train_generator,\n",
    "    steps_per_epoch=train_steps_per_epoch,\n",
    "    epochs=10,  # Adjust the number of epochs based on your needs\n",
    "    validation_data=val_generator,\n",
    "    validation_steps=val_steps_per_epoch,\n",
    "    callbacks=[early_stopping]\n",
    ")"
   ]
  },
  {
   "cell_type": "code",
   "execution_count": null,
   "metadata": {},
   "outputs": [],
   "source": [
    "# Plot training history\n",
    "plt.plot(new_history.new_history['loss'], label='Training Loss')\n",
    "plt.plot(new_history.new_history['val_loss'], label='Validation Loss')\n",
    "plt.xlabel('Epochs')\n",
    "plt.ylabel('Loss')\n",
    "plt.legend()\n",
    "plt.show()\n",
    "\n",
    "plt.plot(new_history.new_history['accuracy'], label='Training Accuracy')\n",
    "plt.plot(new_history.new_history['val_accuracy'], label='Validation Accuracy')\n",
    "plt.xlabel('Epochs')\n",
    "plt.ylabel('Accuracy')\n",
    "plt.legend()\n",
    "plt.show()"
   ]
  },
  {
   "cell_type": "code",
   "execution_count": null,
   "metadata": {},
   "outputs": [],
   "source": [
    "test_metrics = new_model.evaluate(test_generator, steps=test_steps_per_epoch)\n",
    "print(\"Test Metrics:\", test_metrics)"
   ]
  },
  {
   "cell_type": "code",
   "execution_count": null,
   "metadata": {},
   "outputs": [],
   "source": [
    "from sklearn.metrics import confusion_matrix, classification_report\n",
    "import numpy as np\n",
    "\n",
    "# Get true labels\n",
    "true_labels = []\n",
    "for i in range(test_steps_per_epoch):\n",
    "    _, labels = next(test_generator)\n",
    "    true_labels.extend(np.argmax(labels, axis=1))\n",
    "\n",
    "# Get predicted labels\n",
    "predicted_labels = new_model.predict(test_generator, steps=test_steps_per_epoch)\n",
    "predicted_labels = np.argmax(predicted_labels, axis=1)\n",
    "\n",
    "# Get class indices from the test generator\n",
    "class_indices = test_generator.class_indices\n",
    "\n",
    "# Print class indices\n",
    "print(\"Class Indices:\")\n",
    "print(class_indices)\n",
    "\n",
    "# Create confusion matrix\n",
    "conf_matrix = confusion_matrix(true_labels, predicted_labels)\n",
    "\n",
    "# Print confusion matrix\n",
    "print(\"Confusion Matrix:\")\n",
    "print(conf_matrix)\n",
    "\n",
    "# You can also visualize the confusion matrix using matplotlib\n",
    "import matplotlib.pyplot as plt\n",
    "import seaborn as sns\n",
    "\n",
    "sns.heatmap(conf_matrix, annot=True, fmt='d', cmap='Blues', xticklabels=class_indices.keys(), yticklabels=class_indices.keys())\n",
    "plt.xlabel('Predicted Label')\n",
    "plt.ylabel('True Label')\n",
    "plt.title('Confusion Matrix')\n",
    "plt.show()\n",
    "\n",
    "# Print classification report\n",
    "print(\"Classification Report:\")\n",
    "print(classification_report(true_labels, predicted_labels))"
   ]
  },
  {
   "attachments": {},
   "cell_type": "markdown",
   "metadata": {},
   "source": [
    "### HyperParameter Tunning"
   ]
  },
  {
   "cell_type": "code",
   "execution_count": null,
   "metadata": {},
   "outputs": [],
   "source": [
    "from keras.wrappers.scikit_learn import KerasClassifier\n",
    "from sklearn.model_selection import GridSearchCV\n",
    "from keras.optimizers import Adam\n",
    "\n",
    "# Function to create the model with hyperparameters as arguments\n",
    "def create_model(optimizer='adam', learning_rate=0.00001, dropout_rate1=0.2, dropout_rate2=0.4):\n",
    "    model = Sequential()\n",
    "    model.add(Conv2D(32, (3, 3), activation='relu', input_shape=(224, 224, 3)))\n",
    "    model.add(MaxPooling2D((2, 2)))\n",
    "    model.add(BatchNormalization())\n",
    "    model.add(Conv2D(64, (3, 3), activation='relu'))\n",
    "    model.add(MaxPooling2D((2, 2)))\n",
    "    model.add(BatchNormalization())\n",
    "    model.add(Dropout(dropout_rate1))\n",
    "    model.add(Flatten())\n",
    "    model.add(Dense(128, activation='relu', kernel_regularizer=regularizers.l2(0.01)))\n",
    "    model.add(BatchNormalization())\n",
    "    model.add(Dropout(dropout_rate2))\n",
    "    model.add(Dense(4, activation='softmax'))\n",
    "    \n",
    "    # Choose optimizer based on the parameter\n",
    "    if optimizer == 'adam':\n",
    "        model.compile(Adam(learning_rate=learning_rate), loss='categorical_crossentropy', metrics=['accuracy'])\n",
    "    else:\n",
    "        model.compile(RMSprop(learning_rate=learning_rate), loss='categorical_crossentropy', metrics=['accuracy'])\n",
    "    \n",
    "    return model\n",
    "\n",
    "# Create KerasClassifier\n",
    "keras_model = KerasClassifier(build_fn=create_model, epochs=10, verbose=0)\n",
    "\n",
    "# Define the parameter grid\n",
    "param_grid = {\n",
    "    'optimizer': ['adam', 'rmsprop'],  # Include both Adam and RMSprop optimizers\n",
    "    'learning_rate': [0.00001, 0.0001, 0.001],\n",
    "    'dropout_rate1': [0.2, 0.3, 0.4],\n",
    "    'dropout_rate2': [0.3, 0.4, 0.5]\n",
    "}\n",
    "\n",
    "# Create GridSearchCV\n",
    "grid = GridSearchCV(estimator=keras_model, param_grid=param_grid, cv=3)\n",
    "\n",
    "# Perform grid search\n",
    "grid_result = grid.fit(train_generator, steps_per_epoch=train_steps_per_epoch,\n",
    "                       validation_data=val_generator, validation_steps=val_steps_per_epoch,\n",
    "                       callbacks=[early_stopping])\n",
    "\n",
    "# Print the best parameters and corresponding accuracy\n",
    "print(\"Best: %f using %s\" % (grid_result.best_score_, grid_result.best_params_))\n"
   ]
  }
 ],
 "metadata": {
  "kernelspec": {
   "display_name": "base",
   "language": "python",
   "name": "python3"
  },
  "language_info": {
   "codemirror_mode": {
    "name": "ipython",
    "version": 3
   },
   "file_extension": ".py",
   "mimetype": "text/x-python",
   "name": "python",
   "nbconvert_exporter": "python",
   "pygments_lexer": "ipython3",
   "version": "3.8.8"
  },
  "orig_nbformat": 4,
  "vscode": {
   "interpreter": {
    "hash": "ad2bdc8ecc057115af97d19610ffacc2b4e99fae6737bb82f5d7fb13d2f2c186"
   }
  }
 },
 "nbformat": 4,
 "nbformat_minor": 2
}
