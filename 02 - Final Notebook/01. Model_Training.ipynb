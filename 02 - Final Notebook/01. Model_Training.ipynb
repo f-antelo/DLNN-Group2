{
 "cells": [
  {
   "attachments": {},
   "cell_type": "markdown",
   "metadata": {},
   "source": [
    "## Data Preprocessing and Model Training"
   ]
  },
  {
   "cell_type": "code",
   "execution_count": 1,
   "metadata": {},
   "outputs": [],
   "source": [
    "# General Libraries:\n",
    "import cv2\n",
    "import os\n",
    "from PIL import Image\n",
    "import numpy as np\n",
    "from sklearn.utils import shuffle\n",
    "from collections import Counter\n",
    "from sklearn.model_selection import train_test_split\n",
    "from sklearn.preprocessing import LabelEncoder\n",
    "import matplotlib.pyplot as plt\n",
    "import seaborn as sns\n",
    "from sklearn.metrics import confusion_matrix, classification_report\n",
    "from sklearn.model_selection import GridSearchCV\n",
    "\n",
    "# Deep Learning libraries:\n",
    "import tensorflow as tf\n",
    "from tensorflow import keras\n",
    "from keras import layers, models\n",
    "from tensorflow.keras.optimizers import RMSprop, Adamax\n",
    "from keras.preprocessing.image import ImageDataGenerator\n",
    "from keras.applications import VGG16\n",
    "from keras.models import Sequential\n",
    "from keras.layers import Conv2D, MaxPooling2D, Flatten, Dense, Dropout, BatchNormalization\n",
    "from keras.utils import to_categorical\n",
    "from keras import regularizers\n",
    "from keras.callbacks import EarlyStopping\n",
    "from scikeras.wrappers import KerasClassifier\n",
    "from tensorflow.keras.applications import Xception"
   ]
  },
  {
   "attachments": {},
   "cell_type": "markdown",
   "metadata": {},
   "source": [
    "### Data Loading and Cleaning"
   ]
  },
  {
   "cell_type": "code",
   "execution_count": 2,
   "metadata": {},
   "outputs": [],
   "source": [
    "def load_data(directory):\n",
    "    images = []\n",
    "    labels = []\n",
    "\n",
    "    for label in os.listdir(directory):\n",
    "        for image in os.listdir(os.path.join(directory, label)):\n",
    "            img_path = os.path.join(directory, label, image)\n",
    "\n",
    "            # Read and resize the image using Pillow\n",
    "            img = Image.open(img_path)\n",
    "            img_array = np.array(img)\n",
    "\n",
    "            # Append the image array and the label to the lists\n",
    "            images.append(img_array)\n",
    "            labels.append(label)\n",
    "\n",
    "    # Shuffle the arrays using sklearn.utils.shuffle\n",
    "    images, labels = shuffle(images, labels, random_state=42)\n",
    "\n",
    "    return images, labels"
   ]
  },
  {
   "cell_type": "code",
   "execution_count": 3,
   "metadata": {},
   "outputs": [],
   "source": [
    "train_dir = r'C:\\Users\\andmpereira\\OneDrive - Grupo Jerónimo Martins\\Documentos\\GitHub\\DLNN-Group2\\00 - Dataset\\Training'\n",
    "test_dir = r'C:\\Users\\andmpereira\\OneDrive - Grupo Jerónimo Martins\\Documentos\\GitHub\\DLNN-Group2\\00 - Dataset\\Testing'\n",
    "\n",
    "# Load training data\n",
    "train_images, train_labels = load_data(train_dir)\n",
    "\n",
    "# Load testing data\n",
    "test_images, test_labels = load_data(test_dir)"
   ]
  },
  {
   "cell_type": "code",
   "execution_count": 4,
   "metadata": {},
   "outputs": [
    {
     "name": "stdout",
     "output_type": "stream",
     "text": [
      "Number of Images in Train Set: 5712\n",
      "Number of Labels in Train Set: 5712\n",
      "Number of Images in Test Set: 1311\n",
      "Number of Labels in Test Set: 1311\n"
     ]
    }
   ],
   "source": [
    "# Check data structure\n",
    "\n",
    "num_train_images = len(train_images)\n",
    "num_test_images = len(test_images)\n",
    "num_train_labels = len(train_labels)\n",
    "num_test_labels = len(test_labels)\n",
    "\n",
    "print(\"Number of Images in Train Set:\", num_train_images)\n",
    "print(\"Number of Labels in Train Set:\", num_train_labels)\n",
    "print(\"Number of Images in Test Set:\", num_test_images)\n",
    "print(\"Number of Labels in Test Set:\", num_test_labels)"
   ]
  },
  {
   "cell_type": "code",
   "execution_count": 5,
   "metadata": {},
   "outputs": [],
   "source": [
    "def remove_duplicates(images, labels):\n",
    "    unique_pairs = set()\n",
    "    unique_images = []\n",
    "    unique_labels = []\n",
    "    num_removed = 0\n",
    "\n",
    "    for img, label in zip(images, labels):\n",
    "        img_str = img.tobytes()\n",
    "        pair = (img_str, label)\n",
    "\n",
    "        # Check if the pair is unique\n",
    "        if pair not in unique_pairs:\n",
    "            unique_pairs.add(pair)\n",
    "            unique_images.append(img)\n",
    "            unique_labels.append(label)\n",
    "        else:\n",
    "            num_removed += 1\n",
    "\n",
    "    print(f\"Removed {num_removed} duplicate images.\")\n",
    "    \n",
    "    return shuffle(unique_images, unique_labels, random_state=99)"
   ]
  },
  {
   "cell_type": "code",
   "execution_count": 6,
   "metadata": {},
   "outputs": [
    {
     "name": "stdout",
     "output_type": "stream",
     "text": [
      "Removed 207 duplicate images.\n",
      "Removed 30 duplicate images.\n"
     ]
    }
   ],
   "source": [
    "# Remove duplicates from training data\n",
    "train_images, train_labels = remove_duplicates(train_images, train_labels)\n",
    "\n",
    "# Remove duplicates from testing data\n",
    "test_images, test_labels = remove_duplicates(test_images, test_labels)"
   ]
  },
  {
   "cell_type": "code",
   "execution_count": 7,
   "metadata": {},
   "outputs": [
    {
     "name": "stdout",
     "output_type": "stream",
     "text": [
      "\n",
      "Class Distribution in Training Dataset:\n",
      "Class glioma: 1321 images\n",
      "Class meningioma: 1333 images\n",
      "Class notumor: 1406 images\n",
      "Class pituitary: 1445 images\n",
      "Total number of images in Training Dataset: 5505\n",
      "\n",
      "Class Distribution in Testing Dataset:\n",
      "Class glioma: 299 images\n",
      "Class meningioma: 301 images\n",
      "Class notumor: 381 images\n",
      "Class pituitary: 300 images\n",
      "Total number of images in Testing Dataset: 1281\n"
     ]
    }
   ],
   "source": [
    "def print_class_distribution(labels, dataset_name):\n",
    "    unique_classes, class_counts = np.unique(labels, return_counts=True)\n",
    "    \n",
    "    print(f\"\\nClass Distribution in {dataset_name} Dataset:\")\n",
    "    for class_label, count in zip(unique_classes, class_counts):\n",
    "        print(f\"Class {class_label}: {count} images\")\n",
    "    \n",
    "    total_images = len(labels)\n",
    "    print(f\"Total number of images in {dataset_name} Dataset: {total_images}\")\n",
    "\n",
    "# Print training data class distribution\n",
    "print_class_distribution(train_labels, 'Training')\n",
    "\n",
    "# Print testing data class distribution\n",
    "print_class_distribution(test_labels, 'Testing')\n"
   ]
  },
  {
   "attachments": {},
   "cell_type": "markdown",
   "metadata": {},
   "source": [
    "### Data Preprocessing"
   ]
  },
  {
   "cell_type": "code",
   "execution_count": 8,
   "metadata": {},
   "outputs": [],
   "source": [
    "# Split the training data into training and validation sets\n",
    "train_images, val_images, train_labels, val_labels = train_test_split(train_images, train_labels, test_size=0.2, random_state=99)"
   ]
  },
  {
   "cell_type": "code",
   "execution_count": 9,
   "metadata": {},
   "outputs": [],
   "source": [
    "def preprocess_images(images, desired_size, normalize=True):\n",
    "    preprocessed_images = []\n",
    "\n",
    "    for img_array in images:\n",
    "        # Convert numpy array to Pillow Image\n",
    "        img = Image.fromarray(img_array)\n",
    "        \n",
    "        # Convert grayscale images to RGB\n",
    "        if img.mode != 'RGB':\n",
    "            img = img.convert('RGB')\n",
    "\n",
    "        # Resize the image\n",
    "        img = img.resize(desired_size)\n",
    "\n",
    "        # Convert the image back to a numpy array\n",
    "        img_array = np.array(img)\n",
    "\n",
    "        # Normalize pixel values to the range [0, 1]\n",
    "        if normalize:\n",
    "            img_array = img_array / 255.0\n",
    "\n",
    "        preprocessed_images.append(img_array)\n",
    "\n",
    "    return preprocessed_images"
   ]
  },
  {
   "cell_type": "code",
   "execution_count": 10,
   "metadata": {},
   "outputs": [],
   "source": [
    "width = 224\n",
    "height = 244\n",
    "\n",
    "train_images_processed = preprocess_images(train_images, desired_size=(width,height))\n",
    "val_images_processed = preprocess_images(val_images, desired_size=(width,height))\n",
    "test_images_processed = preprocess_images(test_images, desired_size=(width,height))\n",
    "\n",
    "train_images_processed = np.array(train_images_processed)\n",
    "val_images_processed = np.array(val_images_processed)"
   ]
  },
  {
   "cell_type": "code",
   "execution_count": 11,
   "metadata": {},
   "outputs": [],
   "source": [
    "\n",
    "label_encoder = LabelEncoder()\n",
    "train_labels_encoded = label_encoder.fit_transform(train_labels)\n",
    "val_labels_encoded = label_encoder.transform(val_labels)\n",
    "test_labels_encoded = label_encoder.transform(test_labels)\n",
    "\n",
    "num_classes = len(label_encoder.classes_)\n",
    "\n",
    "train_labels_one_hot = to_categorical(train_labels_encoded, num_classes=num_classes)\n",
    "val_labels_one_hot = to_categorical(val_labels_encoded, num_classes=num_classes)\n",
    "test_labels_one_hot = to_categorical(test_labels_encoded, num_classes=num_classes)"
   ]
  },
  {
   "attachments": {},
   "cell_type": "markdown",
   "metadata": {},
   "source": [
    "### Data Augmentation"
   ]
  },
  {
   "cell_type": "code",
   "execution_count": 12,
   "metadata": {},
   "outputs": [],
   "source": [
    "# Create an ImageDataGenerator with data augmentation parameters\n",
    "datagen = ImageDataGenerator(\n",
    "    rotation_range=20,\n",
    "    width_shift_range=0.2,\n",
    "    height_shift_range=0.2,\n",
    "    shear_range=0.2,\n",
    "    zoom_range=0.2,\n",
    "    horizontal_flip=True,\n",
    "    fill_mode='nearest'\n",
    ")\n",
    "\n",
    "val_datagen = ImageDataGenerator()\n",
    "\n",
    "# Preprocess and augment training data\n",
    "train_generator = datagen.flow(np.array(train_images_processed), train_labels_one_hot, batch_size=32)\n",
    "val_generator = val_datagen.flow(np.array(val_images_processed), val_labels_one_hot, batch_size=32)"
   ]
  },
  {
   "attachments": {},
   "cell_type": "markdown",
   "metadata": {},
   "source": [
    "### Model Architecture"
   ]
  },
  {
   "cell_type": "code",
   "execution_count": 13,
   "metadata": {},
   "outputs": [
    {
     "name": "stdout",
     "output_type": "stream",
     "text": [
      "Model: \"sequential\"\n",
      "_________________________________________________________________\n",
      " Layer (type)                Output Shape              Param #   \n",
      "=================================================================\n",
      " conv2d (Conv2D)             (None, 222, 242, 32)      896       \n",
      "                                                                 \n",
      " max_pooling2d (MaxPooling2  (None, 111, 121, 32)      0         \n",
      " D)                                                              \n",
      "                                                                 \n",
      " conv2d_1 (Conv2D)           (None, 109, 119, 64)      18496     \n",
      "                                                                 \n",
      " max_pooling2d_1 (MaxPoolin  (None, 54, 59, 64)        0         \n",
      " g2D)                                                            \n",
      "                                                                 \n",
      " conv2d_2 (Conv2D)           (None, 52, 57, 128)       73856     \n",
      "                                                                 \n",
      " max_pooling2d_2 (MaxPoolin  (None, 26, 28, 128)       0         \n",
      " g2D)                                                            \n",
      "                                                                 \n",
      " flatten (Flatten)           (None, 93184)             0         \n",
      "                                                                 \n",
      " dense (Dense)               (None, 128)               11927680  \n",
      "                                                                 \n",
      " dense_1 (Dense)             (None, 4)                 516       \n",
      "                                                                 \n",
      "=================================================================\n",
      "Total params: 12021444 (45.86 MB)\n",
      "Trainable params: 12021444 (45.86 MB)\n",
      "Non-trainable params: 0 (0.00 Byte)\n",
      "_________________________________________________________________\n"
     ]
    }
   ],
   "source": [
    "model = models.Sequential()\n",
    "\n",
    "model.add(layers.Conv2D(32, (3, 3), activation='relu', input_shape=(224, 244, 3)))\n",
    "model.add(layers.MaxPooling2D((2, 2)))\n",
    "\n",
    "model.add(layers.Conv2D(64, (3, 3), activation='relu'))\n",
    "model.add(layers.MaxPooling2D((2, 2)))\n",
    "\n",
    "model.add(layers.Conv2D(128, (3, 3), activation='relu'))\n",
    "model.add(layers.MaxPooling2D((2, 2)))\n",
    "\n",
    "model.add(layers.Flatten())\n",
    "\n",
    "model.add(layers.Dense(128, activation='relu'))\n",
    "model.add(layers.Dense(4, activation='softmax'))\n",
    "\n",
    "model.compile(RMSprop(learning_rate=0.001),\n",
    "              loss='categorical_crossentropy',\n",
    "              metrics=['accuracy'])\n",
    "\n",
    "model.summary()"
   ]
  },
  {
   "cell_type": "code",
   "execution_count": 14,
   "metadata": {},
   "outputs": [
    {
     "name": "stdout",
     "output_type": "stream",
     "text": [
      "Epoch 1/15\n",
      "138/138 [==============================] - 349s 3s/step - loss: 1.2588 - accuracy: 0.4591 - val_loss: 0.8769 - val_accuracy: 0.6549\n",
      "Epoch 2/15\n",
      "138/138 [==============================] - 331s 2s/step - loss: 0.9346 - accuracy: 0.6058 - val_loss: 0.6903 - val_accuracy: 0.7511\n",
      "Epoch 3/15\n",
      "138/138 [==============================] - 342s 2s/step - loss: 0.8213 - accuracy: 0.6649 - val_loss: 0.6143 - val_accuracy: 0.7729\n",
      "Epoch 4/15\n",
      "138/138 [==============================] - 344s 2s/step - loss: 0.7644 - accuracy: 0.6805 - val_loss: 0.6070 - val_accuracy: 0.7439\n",
      "Epoch 5/15\n",
      "138/138 [==============================] - 345s 2s/step - loss: 0.7206 - accuracy: 0.7150 - val_loss: 0.5425 - val_accuracy: 0.7675\n",
      "Epoch 6/15\n",
      "138/138 [==============================] - 343s 2s/step - loss: 0.6691 - accuracy: 0.7330 - val_loss: 0.5357 - val_accuracy: 0.7811\n",
      "Epoch 7/15\n",
      "138/138 [==============================] - 342s 2s/step - loss: 0.6313 - accuracy: 0.7480 - val_loss: 0.5534 - val_accuracy: 0.7875\n",
      "Epoch 8/15\n",
      "138/138 [==============================] - 343s 2s/step - loss: 0.6056 - accuracy: 0.7604 - val_loss: 0.4406 - val_accuracy: 0.8429\n",
      "Epoch 9/15\n",
      "138/138 [==============================] - 343s 2s/step - loss: 0.5865 - accuracy: 0.7629 - val_loss: 0.4902 - val_accuracy: 0.8120\n",
      "Epoch 10/15\n",
      "138/138 [==============================] - 344s 2s/step - loss: 0.5556 - accuracy: 0.7768 - val_loss: 0.6706 - val_accuracy: 0.7720\n",
      "Epoch 11/15\n",
      "138/138 [==============================] - 350s 3s/step - loss: 0.5342 - accuracy: 0.7852 - val_loss: 0.3910 - val_accuracy: 0.8592\n",
      "Epoch 12/15\n",
      "138/138 [==============================] - 341s 2s/step - loss: 0.5171 - accuracy: 0.7956 - val_loss: 0.3922 - val_accuracy: 0.8574\n",
      "Epoch 13/15\n",
      "138/138 [==============================] - 346s 3s/step - loss: 0.5016 - accuracy: 0.8002 - val_loss: 0.4520 - val_accuracy: 0.8447\n",
      "Epoch 14/15\n",
      "138/138 [==============================] - 345s 2s/step - loss: 0.4832 - accuracy: 0.8118 - val_loss: 0.4004 - val_accuracy: 0.8565\n",
      "Epoch 15/15\n",
      "138/138 [==============================] - 337s 2s/step - loss: 0.4523 - accuracy: 0.8204 - val_loss: 0.3937 - val_accuracy: 0.8592\n"
     ]
    }
   ],
   "source": [
    "# Specify the number of training steps per epoch and validation steps\n",
    "train_steps_per_epoch = len(train_generator)\n",
    "val_steps_per_epoch = len(val_generator)\n",
    "\n",
    "# Fit the model\n",
    "history = model.fit(\n",
    "    train_generator,\n",
    "    steps_per_epoch=train_steps_per_epoch,\n",
    "    epochs=15,\n",
    "    validation_data=val_generator,\n",
    "    validation_steps=val_steps_per_epoch)"
   ]
  },
  {
   "cell_type": "code",
   "execution_count": 15,
   "metadata": {},
   "outputs": [
    {
     "name": "stdout",
     "output_type": "stream",
     "text": [
      "35/35 [==============================] - 30s 869ms/step - loss: 0.3937 - accuracy: 0.8592\n",
      "Validation Metrics: [0.3937256932258606, 0.8592188954353333]\n"
     ]
    }
   ],
   "source": [
    "val_metrics = model.evaluate(val_generator, steps=val_steps_per_epoch)\n",
    "print(\"Validation Metrics:\", val_metrics)"
   ]
  },
  {
   "cell_type": "code",
   "execution_count": 16,
   "metadata": {},
   "outputs": [
    {
     "data": {
      "image/png": "[encoded data removed]",
      "text/plain": [
       "<Figure size 432x288 with 1 Axes>"
      ]
     },
     "metadata": {
      "needs_background": "light"
     },
     "output_type": "display_data"
    },
    {
     "data": {
      "image/png": "[encoded data removed]",
      "text/plain": [
       "<Figure size 432x288 with 1 Axes>"
      ]
     },
     "metadata": {
      "needs_background": "light"
     },
     "output_type": "display_data"
    }
   ],
   "source": [
    "# Plot training history\n",
    "plt.plot(history.history['loss'], label='Training Loss')\n",
    "plt.plot(history.history['val_loss'], label='Validation Loss')\n",
    "plt.xlabel('Epochs')\n",
    "plt.ylabel('Loss')\n",
    "plt.legend()\n",
    "plt.show()\n",
    "\n",
    "plt.plot(history.history['accuracy'], label='Training Accuracy')\n",
    "plt.plot(history.history['val_accuracy'], label='Validation Accuracy')\n",
    "plt.xlabel('Epochs')\n",
    "plt.ylabel('Accuracy')\n",
    "plt.legend()\n",
    "plt.show()"
   ]
  },
  {
   "cell_type": "code",
   "execution_count": 17,
   "metadata": {},
   "outputs": [
    {
     "name": "stdout",
     "output_type": "stream",
     "text": [
      "41/41 [==============================] - 27s 654ms/step - loss: 0.5143 - accuracy: 0.8134\n",
      "Test Metrics: [0.5142722725868225, 0.8134270310401917]\n"
     ]
    }
   ],
   "source": [
    "test_generator = val_datagen.flow(np.array(test_images_processed), test_labels_one_hot, batch_size=32)\n",
    "\n",
    "test_steps_per_epoch = len(test_generator)\n",
    "test_metrics = model.evaluate(test_generator, steps=test_steps_per_epoch)\n",
    "print(\"Test Metrics:\", test_metrics)"
   ]
  },
  {
   "cell_type": "code",
   "execution_count": 18,
   "metadata": {},
   "outputs": [
    {
     "name": "stdout",
     "output_type": "stream",
     "text": [
      "41/41 [==============================] - 28s 667ms/step\n"
     ]
    },
    {
     "data": {
      "image/png": "[encoded data removed]",
      "text/plain": [
       "<Figure size 432x288 with 2 Axes>"
      ]
     },
     "metadata": {
      "needs_background": "light"
     },
     "output_type": "display_data"
    },
    {
     "name": "stdout",
     "output_type": "stream",
     "text": [
      "Classification Report:\n",
      "              precision    recall  f1-score   support\n",
      "\n",
      "           0       0.90      0.68      0.77       299\n",
      "           1       0.69      0.64      0.66       301\n",
      "           2       0.80      0.99      0.89       381\n",
      "           3       0.88      0.89      0.89       300\n",
      "\n",
      "    accuracy                           0.81      1281\n",
      "   macro avg       0.82      0.80      0.80      1281\n",
      "weighted avg       0.82      0.81      0.81      1281\n",
      "\n"
     ]
    }
   ],
   "source": [
    "# Get true labels\n",
    "true_labels = []\n",
    "for i in range(test_steps_per_epoch):\n",
    "    _, labels = next(test_generator)\n",
    "    true_labels.extend(np.argmax(labels, axis=1))\n",
    "\n",
    "# Get predicted labels\n",
    "predicted_labels = model.predict(test_generator, steps=test_steps_per_epoch)\n",
    "predicted_labels = np.argmax(predicted_labels, axis=1)\n",
    "\n",
    "# Create confusion matrix\n",
    "conf_matrix = confusion_matrix(true_labels, predicted_labels)\n",
    "\n",
    "sns.heatmap(conf_matrix, annot=True, fmt='d', cmap='Blues', xticklabels=['Glioma','Meningioma','No Tumor','Pituitary'], yticklabels=['Glioma','Meningioma','No Tumor','Pituitary'])\n",
    "plt.xlabel('Predicted Label')\n",
    "plt.ylabel('True Label')\n",
    "plt.title('Confusion Matrix')\n",
    "plt.show()\n",
    "\n",
    "# Print classification report\n",
    "print(\"Classification Report:\")\n",
    "print(classification_report(true_labels, predicted_labels))\n",
    "\n"
   ]
  },
  {
   "attachments": {},
   "cell_type": "markdown",
   "metadata": {},
   "source": [
    "### Model Optimization"
   ]
  },
  {
   "attachments": {},
   "cell_type": "markdown",
   "metadata": {},
   "source": [
    "- Added Dropout and BatchNormalization\n",
    "- Added L2 regularization\n",
    "- Used Early Stopping to ensure improvement"
   ]
  },
  {
   "cell_type": "code",
   "execution_count": 19,
   "metadata": {},
   "outputs": [
    {
     "name": "stdout",
     "output_type": "stream",
     "text": [
      "Model: \"sequential_1\"\n",
      "_________________________________________________________________\n",
      " Layer (type)                Output Shape              Param #   \n",
      "=================================================================\n",
      " conv2d_3 (Conv2D)           (None, 222, 242, 32)      896       \n",
      "                                                                 \n",
      " max_pooling2d_3 (MaxPoolin  (None, 111, 121, 32)      0         \n",
      " g2D)                                                            \n",
      "                                                                 \n",
      " batch_normalization (Batch  (None, 111, 121, 32)      128       \n",
      " Normalization)                                                  \n",
      "                                                                 \n",
      " conv2d_4 (Conv2D)           (None, 109, 119, 64)      18496     \n",
      "                                                                 \n",
      " max_pooling2d_4 (MaxPoolin  (None, 54, 59, 64)        0         \n",
      " g2D)                                                            \n",
      "                                                                 \n",
      " batch_normalization_1 (Bat  (None, 54, 59, 64)        256       \n",
      " chNormalization)                                                \n",
      "                                                                 \n",
      " conv2d_5 (Conv2D)           (None, 52, 57, 128)       73856     \n",
      "                                                                 \n",
      " max_pooling2d_5 (MaxPoolin  (None, 26, 28, 128)       0         \n",
      " g2D)                                                            \n",
      "                                                                 \n",
      " batch_normalization_2 (Bat  (None, 26, 28, 128)       512       \n",
      " chNormalization)                                                \n",
      "                                                                 \n",
      " flatten_1 (Flatten)         (None, 93184)             0         \n",
      "                                                                 \n",
      " dropout (Dropout)           (None, 93184)             0         \n",
      "                                                                 \n",
      " dense_2 (Dense)             (None, 128)               11927680  \n",
      "                                                                 \n",
      " dropout_1 (Dropout)         (None, 128)               0         \n",
      "                                                                 \n",
      " dense_3 (Dense)             (None, 4)                 516       \n",
      "                                                                 \n",
      "=================================================================\n",
      "Total params: 12022340 (45.86 MB)\n",
      "Trainable params: 12021892 (45.86 MB)\n",
      "Non-trainable params: 448 (1.75 KB)\n",
      "_________________________________________________________________\n"
     ]
    }
   ],
   "source": [
    "new_model = Sequential()\n",
    "\n",
    "new_model.add(Conv2D(32, (3, 3), activation='relu', input_shape=(224, 244, 3)))\n",
    "new_model.add(MaxPooling2D((2, 2)))\n",
    "new_model.add(BatchNormalization())\n",
    "\n",
    "new_model.add(Conv2D(64, (3, 3), activation='relu'))\n",
    "new_model.add(MaxPooling2D((2, 2)))\n",
    "new_model.add(BatchNormalization())\n",
    "\n",
    "new_model.add(Conv2D(128, (3, 3), activation='relu'))\n",
    "new_model.add(MaxPooling2D((2, 2)))\n",
    "new_model.add(BatchNormalization())\n",
    "\n",
    "new_model.add(Flatten())\n",
    "new_model.add(Dropout(0.3))\n",
    "\n",
    "new_model.add(Dense(128, activation='relu', kernel_regularizer=regularizers.l2(0.01)))\n",
    "new_model.add(Dropout(0.2))\n",
    "\n",
    "new_model.add(Dense(4, activation='softmax'))\n",
    "\n",
    "new_model.compile(RMSprop(learning_rate=0.00001),\n",
    "                  loss='categorical_crossentropy',\n",
    "                  metrics=['accuracy'])\n",
    "\n",
    "new_model.summary()\n"
   ]
  },
  {
   "cell_type": "code",
   "execution_count": 20,
   "metadata": {},
   "outputs": [
    {
     "name": "stdout",
     "output_type": "stream",
     "text": [
      "Epoch 1/11\n",
      "138/138 [==============================] - 420s 3s/step - loss: 3.7252 - accuracy: 0.5216 - val_loss: 4.0650 - val_accuracy: 0.4478\n",
      "Epoch 2/11\n",
      "138/138 [==============================] - 408s 3s/step - loss: 3.5004 - accuracy: 0.6138 - val_loss: 3.7780 - val_accuracy: 0.4714\n",
      "Epoch 3/11\n",
      "138/138 [==============================] - 399s 3s/step - loss: 3.3976 - accuracy: 0.6431 - val_loss: 3.6266 - val_accuracy: 0.4541\n",
      "Epoch 4/11\n",
      "138/138 [==============================] - 399s 3s/step - loss: 3.3472 - accuracy: 0.6460 - val_loss: 3.2498 - val_accuracy: 0.7012\n",
      "Epoch 5/11\n",
      "138/138 [==============================] - 400s 3s/step - loss: 3.2736 - accuracy: 0.6676 - val_loss: 3.1500 - val_accuracy: 0.7003\n",
      "Epoch 6/11\n",
      "138/138 [==============================] - 400s 3s/step - loss: 3.2072 - accuracy: 0.6848 - val_loss: 2.9887 - val_accuracy: 0.7893\n",
      "Epoch 7/11\n",
      "138/138 [==============================] - 397s 3s/step - loss: 3.1598 - accuracy: 0.6923 - val_loss: 2.9828 - val_accuracy: 0.7639\n",
      "Epoch 8/11\n",
      "138/138 [==============================] - 395s 3s/step - loss: 3.0855 - accuracy: 0.7084 - val_loss: 2.8543 - val_accuracy: 0.8120\n",
      "Epoch 9/11\n",
      "138/138 [==============================] - 408s 3s/step - loss: 3.0431 - accuracy: 0.7132 - val_loss: 2.8457 - val_accuracy: 0.8011\n",
      "Epoch 10/11\n",
      "138/138 [==============================] - 415s 3s/step - loss: 2.9750 - accuracy: 0.7148 - val_loss: 2.8015 - val_accuracy: 0.7956\n",
      "Epoch 11/11\n",
      "138/138 [==============================] - 425s 3s/step - loss: 2.9430 - accuracy: 0.7123 - val_loss: 2.7509 - val_accuracy: 0.8047\n"
     ]
    }
   ],
   "source": [
    "# Define early stopping callback\n",
    "early_stopping = EarlyStopping(monitor='val_loss', patience=3, restore_best_weights=True)\n",
    "\n",
    "# Fit the new model with early stopping\n",
    "new_history = new_model.fit(\n",
    "    train_generator,\n",
    "    steps_per_epoch=train_steps_per_epoch,\n",
    "    epochs=11,\n",
    "    validation_data=val_generator,\n",
    "    validation_steps=val_steps_per_epoch,\n",
    "    callbacks=[early_stopping]\n",
    ")"
   ]
  },
  {
   "cell_type": "code",
   "execution_count": 21,
   "metadata": {},
   "outputs": [
    {
     "data": {
      "image/png": "[encoded data removed]",
      "text/plain": [
       "<Figure size 432x288 with 1 Axes>"
      ]
     },
     "metadata": {
      "needs_background": "light"
     },
     "output_type": "display_data"
    },
    {
     "data": {
      "image/png": "[encoded data removed]",
      "text/plain": [
       "<Figure size 432x288 with 1 Axes>"
      ]
     },
     "metadata": {
      "needs_background": "light"
     },
     "output_type": "display_data"
    }
   ],
   "source": [
    "# Plot training history\n",
    "plt.plot(new_history.history['loss'], label='Training Loss')\n",
    "plt.plot(new_history.history['val_loss'], label='Validation Loss')\n",
    "plt.xlabel('Epochs')\n",
    "plt.ylabel('Loss')\n",
    "plt.legend()\n",
    "plt.show()\n",
    "\n",
    "plt.plot(new_history.history['accuracy'], label='Training Accuracy')\n",
    "plt.plot(new_history.history['val_accuracy'], label='Validation Accuracy')\n",
    "plt.xlabel('Epochs')\n",
    "plt.ylabel('Accuracy')\n",
    "plt.legend()\n",
    "plt.show()"
   ]
  },
  {
   "cell_type": "code",
   "execution_count": 22,
   "metadata": {},
   "outputs": [
    {
     "name": "stdout",
     "output_type": "stream",
     "text": [
      "41/41 [==============================] - 29s 704ms/step - loss: 2.9065 - accuracy: 0.7705\n",
      "Test Metrics: [2.906477451324463, 0.7704917788505554]\n"
     ]
    }
   ],
   "source": [
    "new_test_metrics = new_model.evaluate(test_generator, steps=test_steps_per_epoch)\n",
    "print(\"Test Metrics:\", new_test_metrics)"
   ]
  },
  {
   "cell_type": "code",
   "execution_count": 23,
   "metadata": {},
   "outputs": [
    {
     "name": "stdout",
     "output_type": "stream",
     "text": [
      "41/41 [==============================] - 27s 640ms/step\n"
     ]
    },
    {
     "data": {
      "image/png": "[encoded data removed]",
      "text/plain": [
       "<Figure size 432x288 with 2 Axes>"
      ]
     },
     "metadata": {
      "needs_background": "light"
     },
     "output_type": "display_data"
    },
    {
     "name": "stdout",
     "output_type": "stream",
     "text": [
      "Classification Report:\n",
      "              precision    recall  f1-score   support\n",
      "\n",
      "           0       0.81      0.69      0.74       299\n",
      "           1       0.71      0.42      0.53       301\n",
      "           2       0.83      0.96      0.89       381\n",
      "           3       0.71      0.97      0.82       300\n",
      "\n",
      "    accuracy                           0.77      1281\n",
      "   macro avg       0.76      0.76      0.74      1281\n",
      "weighted avg       0.77      0.77      0.75      1281\n",
      "\n"
     ]
    }
   ],
   "source": [
    "# Get true labels\n",
    "true_labels = []\n",
    "for i in range(test_steps_per_epoch):\n",
    "    _, labels = next(test_generator)\n",
    "    true_labels.extend(np.argmax(labels, axis=1))\n",
    "\n",
    "# Get predicted labels\n",
    "new_predicted_labels = new_model.predict(test_generator, steps=test_steps_per_epoch)\n",
    "new_predicted_labels = np.argmax(new_predicted_labels, axis=1)\n",
    "\n",
    "# Create confusion matrix\n",
    "conf_matrix = confusion_matrix(true_labels, new_predicted_labels)\n",
    "\n",
    "sns.heatmap(conf_matrix, annot=True, fmt='d', cmap='Blues', xticklabels=['Glioma','Meningioma','No Tumor','Pituitary'], yticklabels=['Glioma','Meningioma','No Tumor','Pituitary'])\n",
    "plt.xlabel('Predicted Label')\n",
    "plt.ylabel('True Label')\n",
    "plt.title('Confusion Matrix')\n",
    "plt.show()\n",
    "\n",
    "# Print classification report\n",
    "print(\"Classification Report:\")\n",
    "print(classification_report(true_labels, new_predicted_labels))"
   ]
  },
  {
   "attachments": {},
   "cell_type": "markdown",
   "metadata": {},
   "source": [
    "### HyperParameter Tunning"
   ]
  },
  {
   "attachments": {},
   "cell_type": "markdown",
   "metadata": {},
   "source": [
    "- Increased number of filters\n",
    "- Increase dropout rates\n",
    "- Used Adamax as optimizer\n",
    "- Increased the number of epochs"
   ]
  },
  {
   "cell_type": "code",
   "execution_count": 24,
   "metadata": {},
   "outputs": [
    {
     "name": "stdout",
     "output_type": "stream",
     "text": [
      "Model: \"sequential_2\"\n",
      "_________________________________________________________________\n",
      " Layer (type)                Output Shape              Param #   \n",
      "=================================================================\n",
      " conv2d_6 (Conv2D)           (None, 222, 242, 64)      1792      \n",
      "                                                                 \n",
      " max_pooling2d_6 (MaxPoolin  (None, 111, 121, 64)      0         \n",
      " g2D)                                                            \n",
      "                                                                 \n",
      " batch_normalization_3 (Bat  (None, 111, 121, 64)      256       \n",
      " chNormalization)                                                \n",
      "                                                                 \n",
      " conv2d_7 (Conv2D)           (None, 109, 119, 128)     73856     \n",
      "                                                                 \n",
      " max_pooling2d_7 (MaxPoolin  (None, 54, 59, 128)       0         \n",
      " g2D)                                                            \n",
      "                                                                 \n",
      " batch_normalization_4 (Bat  (None, 54, 59, 128)       512       \n",
      " chNormalization)                                                \n",
      "                                                                 \n",
      " conv2d_8 (Conv2D)           (None, 52, 57, 256)       295168    \n",
      "                                                                 \n",
      " max_pooling2d_8 (MaxPoolin  (None, 26, 28, 256)       0         \n",
      " g2D)                                                            \n",
      "                                                                 \n",
      " batch_normalization_5 (Bat  (None, 26, 28, 256)       1024      \n",
      " chNormalization)                                                \n",
      "                                                                 \n",
      " flatten_2 (Flatten)         (None, 186368)            0         \n",
      "                                                                 \n",
      " dropout_2 (Dropout)         (None, 186368)            0         \n",
      "                                                                 \n",
      " dense_4 (Dense)             (None, 128)               23855232  \n",
      "                                                                 \n",
      " dropout_3 (Dropout)         (None, 128)               0         \n",
      "                                                                 \n",
      " dense_5 (Dense)             (None, 4)                 516       \n",
      "                                                                 \n",
      "=================================================================\n",
      "Total params: 24228356 (92.42 MB)\n",
      "Trainable params: 24227460 (92.42 MB)\n",
      "Non-trainable params: 896 (3.50 KB)\n",
      "_________________________________________________________________\n"
     ]
    }
   ],
   "source": [
    "model1 = Sequential()\n",
    "\n",
    "model1.add(Conv2D(64, (3, 3), activation='relu', input_shape=(224, 244, 3)))\n",
    "model1.add(MaxPooling2D((2, 2)))\n",
    "model1.add(BatchNormalization())\n",
    "\n",
    "model1.add(Conv2D(128, (3, 3), activation='relu'))\n",
    "model1.add(MaxPooling2D((2, 2)))\n",
    "model1.add(BatchNormalization())\n",
    "\n",
    "model1.add(Conv2D(256, (3, 3), activation='relu'))\n",
    "model1.add(MaxPooling2D((2, 2)))\n",
    "model1.add(BatchNormalization())\n",
    "\n",
    "model1.add(Flatten())\n",
    "model1.add(Dropout(0.4))\n",
    "\n",
    "model1.add(Dense(128, activation='relu', kernel_regularizer=regularizers.l2(0.01)))\n",
    "model1.add(Dropout(0.3))\n",
    "\n",
    "model1.add(Dense(4, activation='softmax'))\n",
    "\n",
    "model1.compile(Adamax(learning_rate=0.001),\n",
    "              loss='categorical_crossentropy',\n",
    "              metrics=['accuracy'])\n",
    "\n",
    "model1.summary()"
   ]
  },
  {
   "cell_type": "code",
   "execution_count": 25,
   "metadata": {},
   "outputs": [
    {
     "name": "stdout",
     "output_type": "stream",
     "text": [
      "Epoch 1/11\n",
      "138/138 [==============================] - 954s 7s/step - loss: 6.9688 - accuracy: 0.4693 - val_loss: 6.2295 - val_accuracy: 0.2534\n",
      "Epoch 2/11\n",
      "138/138 [==============================] - 1008s 7s/step - loss: 5.1994 - accuracy: 0.5082 - val_loss: 5.8243 - val_accuracy: 0.2625\n",
      "Epoch 3/11\n",
      "138/138 [==============================] - 932s 7s/step - loss: 4.5163 - accuracy: 0.5402 - val_loss: 4.7781 - val_accuracy: 0.3115\n",
      "Epoch 4/11\n",
      "138/138 [==============================] - 937s 7s/step - loss: 3.8314 - accuracy: 0.5899 - val_loss: 4.1109 - val_accuracy: 0.4142\n",
      "Epoch 5/11\n",
      "138/138 [==============================] - 944s 7s/step - loss: 3.4342 - accuracy: 0.5774 - val_loss: 3.3814 - val_accuracy: 0.4977\n",
      "Epoch 6/11\n",
      "138/138 [==============================] - 1012s 7s/step - loss: 2.9463 - accuracy: 0.6156 - val_loss: 3.0163 - val_accuracy: 0.5522\n",
      "Epoch 7/11\n",
      "138/138 [==============================] - 983s 7s/step - loss: 2.6439 - accuracy: 0.6183 - val_loss: 2.5033 - val_accuracy: 0.6249\n",
      "Epoch 8/11\n",
      "138/138 [==============================] - 978s 7s/step - loss: 2.4019 - accuracy: 0.6315 - val_loss: 2.5696 - val_accuracy: 0.6730\n",
      "Epoch 9/11\n",
      "138/138 [==============================] - 988s 7s/step - loss: 2.2989 - accuracy: 0.6240 - val_loss: 2.1340 - val_accuracy: 0.7402\n",
      "Epoch 10/11\n",
      "138/138 [==============================] - 986s 7s/step - loss: 2.1036 - accuracy: 0.6614 - val_loss: 2.0751 - val_accuracy: 0.7193\n",
      "Epoch 11/11\n",
      "138/138 [==============================] - 985s 7s/step - loss: 1.9792 - accuracy: 0.6515 - val_loss: 1.8476 - val_accuracy: 0.8002\n"
     ]
    }
   ],
   "source": [
    "# Define early stopping callback\n",
    "early_stopping = EarlyStopping(monitor='val_loss', patience=3, restore_best_weights=True)\n",
    "\n",
    "# Fit the new model with early stopping\n",
    "model1_history = model1.fit(\n",
    "    train_generator,\n",
    "    steps_per_epoch=train_steps_per_epoch,\n",
    "    epochs=15,\n",
    "    validation_data=val_generator,\n",
    "    validation_steps=val_steps_per_epoch,\n",
    "    callbacks=[early_stopping])"
   ]
  },
  {
   "cell_type": "code",
   "execution_count": 26,
   "metadata": {},
   "outputs": [
    {
     "data": {
      "image/png": "[encoded data removed]",
      "text/plain": [
       "<Figure size 432x288 with 1 Axes>"
      ]
     },
     "metadata": {
      "needs_background": "light"
     },
     "output_type": "display_data"
    },
    {
     "data": {
      "image/png": "[encoded data removed]",
      "text/plain": [
       "<Figure size 432x288 with 1 Axes>"
      ]
     },
     "metadata": {
      "needs_background": "light"
     },
     "output_type": "display_data"
    }
   ],
   "source": [
    "# Plot training history\n",
    "plt.plot(new_history.history['loss'], label='Training Loss')\n",
    "plt.plot(new_history.history['val_loss'], label='Validation Loss')\n",
    "plt.xlabel('Epochs')\n",
    "plt.ylabel('Loss')\n",
    "plt.legend()\n",
    "plt.show()\n",
    "\n",
    "plt.plot(new_history.history['accuracy'], label='Training Accuracy')\n",
    "plt.plot(new_history.history['val_accuracy'], label='Validation Accuracy')\n",
    "plt.xlabel('Epochs')\n",
    "plt.ylabel('Accuracy')\n",
    "plt.legend()\n",
    "plt.show()"
   ]
  },
  {
   "cell_type": "code",
   "execution_count": 27,
   "metadata": {},
   "outputs": [
    {
     "name": "stdout",
     "output_type": "stream",
     "text": [
      "41/41 [==============================] - 28s 672ms/step - loss: 2.9065 - accuracy: 0.7705\n",
      "Test Metrics: [2.906477451324463, 0.7704917788505554]\n"
     ]
    }
   ],
   "source": [
    "new_test_metrics = new_model.evaluate(test_generator, steps=test_steps_per_epoch)\n",
    "print(\"Test Metrics:\", new_test_metrics)"
   ]
  },
  {
   "cell_type": "code",
   "execution_count": 28,
   "metadata": {},
   "outputs": [
    {
     "name": "stdout",
     "output_type": "stream",
     "text": [
      "41/41 [==============================] - 26s 627ms/step\n"
     ]
    },
    {
     "data": {
      "image/png": "[encoded data removed]",
      "text/plain": [
       "<Figure size 432x288 with 2 Axes>"
      ]
     },
     "metadata": {
      "needs_background": "light"
     },
     "output_type": "display_data"
    },
    {
     "name": "stdout",
     "output_type": "stream",
     "text": [
      "Classification Report:\n",
      "              precision    recall  f1-score   support\n",
      "\n",
      "           0       0.81      0.69      0.74       299\n",
      "           1       0.71      0.42      0.53       301\n",
      "           2       0.83      0.96      0.89       381\n",
      "           3       0.71      0.97      0.82       300\n",
      "\n",
      "    accuracy                           0.77      1281\n",
      "   macro avg       0.76      0.76      0.74      1281\n",
      "weighted avg       0.77      0.77      0.75      1281\n",
      "\n"
     ]
    }
   ],
   "source": [
    "# Get true labels\n",
    "true_labels = []\n",
    "for i in range(test_steps_per_epoch):\n",
    "    _, labels = next(test_generator)\n",
    "    true_labels.extend(np.argmax(labels, axis=1))\n",
    "\n",
    "# Get predicted labels\n",
    "new_predicted_labels = new_model.predict(test_generator, steps=test_steps_per_epoch)\n",
    "new_predicted_labels = np.argmax(new_predicted_labels, axis=1)\n",
    "\n",
    "# Create confusion matrix\n",
    "conf_matrix = confusion_matrix(true_labels, new_predicted_labels)\n",
    "\n",
    "sns.heatmap(conf_matrix, annot=True, fmt='d', cmap='Blues', xticklabels=['Glioma','Meningioma','No Tumor','Pituitary'], yticklabels=['Glioma','Meningioma','No Tumor','Pituitary'])\n",
    "plt.xlabel('Predicted Label')\n",
    "plt.ylabel('True Label')\n",
    "plt.title('Confusion Matrix')\n",
    "plt.show()\n",
    "\n",
    "# Print classification report\n",
    "print(\"Classification Report:\")\n",
    "print(classification_report(true_labels, new_predicted_labels))"
   ]
  },
  {
   "attachments": {},
   "cell_type": "markdown",
   "metadata": {},
   "source": [
    "### Pre-trained Models"
   ]
  },
  {
   "attachments": {},
   "cell_type": "markdown",
   "metadata": {},
   "source": [
    "#### XCeption"
   ]
  },
  {
   "cell_type": "code",
   "execution_count": 29,
   "metadata": {},
   "outputs": [
    {
     "name": "stdout",
     "output_type": "stream",
     "text": [
      "Model: \"sequential_3\"\n",
      "_________________________________________________________________\n",
      " Layer (type)                Output Shape              Param #   \n",
      "=================================================================\n",
      " xception (Functional)       (None, 7, 8, 2048)        20861480  \n",
      "                                                                 \n",
      " flatten_3 (Flatten)         (None, 114688)            0         \n",
      "                                                                 \n",
      " dropout_4 (Dropout)         (None, 114688)            0         \n",
      "                                                                 \n",
      " dense_6 (Dense)             (None, 128)               14680192  \n",
      "                                                                 \n",
      " dropout_5 (Dropout)         (None, 128)               0         \n",
      "                                                                 \n",
      " dense_7 (Dense)             (None, 4)                 516       \n",
      "                                                                 \n",
      "=================================================================\n",
      "Total params: 35542188 (135.58 MB)\n",
      "Trainable params: 14680708 (56.00 MB)\n",
      "Non-trainable params: 20861480 (79.58 MB)\n",
      "_________________________________________________________________\n"
     ]
    }
   ],
   "source": [
    "base_model1 = Xception(weights='imagenet', include_top=False, input_shape=(224, 244, 3))\n",
    "\n",
    "for layer in base_model1.layers:\n",
    "    layer.trainable = False\n",
    "\n",
    "pre_trained1_model = Sequential()\n",
    "pre_trained1_model.add(base_model1)\n",
    "pre_trained1_model.add(layers.Flatten())\n",
    "pre_trained1_model.add(layers.Dropout(0.5))\n",
    "pre_trained1_model.add(layers.Dense(128, activation='relu'))\n",
    "pre_trained1_model.add(layers.Dropout(0.5))\n",
    "pre_trained1_model.add(layers.Dense(4, activation='softmax'))\n",
    "pre_trained1_model.compile(Adamax(learning_rate=0.001),\n",
    "              loss='categorical_crossentropy',\n",
    "              metrics=['accuracy'])\n",
    "\n",
    "pre_trained1_model.summary()"
   ]
  },
  {
   "cell_type": "code",
   "execution_count": 30,
   "metadata": {},
   "outputs": [
    {
     "name": "stdout",
     "output_type": "stream",
     "text": [
      "Epoch 1/11\n",
      "138/138 [==============================] - 808s 6s/step - loss: 1.3722 - accuracy: 0.6735 - val_loss: 0.4351 - val_accuracy: 0.8365\n",
      "Epoch 2/11\n",
      "138/138 [==============================] - 794s 6s/step - loss: 0.5806 - accuracy: 0.7763 - val_loss: 0.3796 - val_accuracy: 0.8619\n",
      "Epoch 3/11\n",
      " 76/138 [===============>..............] - ETA: 5:18 - loss: 0.5107 - accuracy: 0.8045"
     ]
    }
   ],
   "source": [
    "# Define early stopping callback\n",
    "early_stopping = EarlyStopping(monitor='val_loss', patience=2, restore_best_weights=True)\n",
    "\n",
    "# Fit the new model with early stopping\n",
    "pretrained1_history = pre_trained1_model.fit(\n",
    "    train_generator,\n",
    "    steps_per_epoch=train_steps_per_epoch,\n",
    "    epochs=11,\n",
    "    validation_data=val_generator,\n",
    "    validation_steps=val_steps_per_epoch,\n",
    "    callbacks=[early_stopping])"
   ]
  },
  {
   "cell_type": "code",
   "execution_count": null,
   "metadata": {},
   "outputs": [],
   "source": [
    "# Plot training history\n",
    "plt.plot(pretrained1_history.history['loss'], label='Training Loss')\n",
    "plt.plot(pretrained1_history.history['val_loss'], label='Validation Loss')\n",
    "plt.xlabel('Epochs')\n",
    "plt.ylabel('Loss')\n",
    "plt.legend()\n",
    "plt.show()\n",
    "\n",
    "plt.plot(pretrained1_history.history['accuracy'], label='Training Accuracy')\n",
    "plt.plot(pretrained1_history.history['val_accuracy'], label='Validation Accuracy')\n",
    "plt.xlabel('Epochs')\n",
    "plt.ylabel('Accuracy')\n",
    "plt.legend()\n",
    "plt.show()"
   ]
  },
  {
   "cell_type": "code",
   "execution_count": null,
   "metadata": {},
   "outputs": [],
   "source": [
    "pretrained1_test_metrics = pre_trained1_model.evaluate(test_generator, steps=test_steps_per_epoch)\n",
    "print(\"Test Metrics:\", pretrained1_test_metrics)"
   ]
  },
  {
   "cell_type": "code",
   "execution_count": null,
   "metadata": {},
   "outputs": [],
   "source": [
    "# Get true labels\n",
    "true_labels = []\n",
    "for i in range(test_steps_per_epoch):\n",
    "    _, labels = next(test_generator)\n",
    "    true_labels.extend(np.argmax(labels, axis=1))\n",
    "\n",
    "# Get predicted labels\n",
    "pretrained1_predicted_labels = pre_trained1_model.predict(test_generator, steps=test_steps_per_epoch)\n",
    "pretrained1_predicted_labels = np.argmax(pretrained1_predicted_labels, axis=1)\n",
    "\n",
    "# Create confusion matrix\n",
    "conf_matrix = confusion_matrix(true_labels, pretrained1_predicted_labels)\n",
    "\n",
    "sns.heatmap(conf_matrix, annot=True, fmt='d', cmap='Blues', xticklabels=['Glioma','Meningioma','No Tumor','Pituitary'], yticklabels=['Glioma','Meningioma','No Tumor','Pituitary'])\n",
    "plt.xlabel('Predicted Label')\n",
    "plt.ylabel('True Label')\n",
    "plt.title('Confusion Matrix')\n",
    "plt.show()\n",
    "\n",
    "# Print classification report\n",
    "print(\"Classification Report:\")\n",
    "print(classification_report(true_labels, pretrained1_predicted_labels))"
   ]
  },
  {
   "attachments": {},
   "cell_type": "markdown",
   "metadata": {},
   "source": [
    "#### VGG16"
   ]
  },
  {
   "cell_type": "code",
   "execution_count": null,
   "metadata": {},
   "outputs": [],
   "source": [
    "base_model2 = VGG16(input_shape=(224, 244, 3), include_top=False, weights='imagenet')\n",
    "\n",
    "# Freeze all layers in the base model\n",
    "for layer in base_model2.layers:\n",
    "    layer.trainable = False\n",
    "\n",
    "pre_trained2_model = Sequential()\n",
    "pre_trained2_model.add(base_model2)\n",
    "pre_trained2_model.add(layers.Flatten())\n",
    "pre_trained2_model.add(layers.Dropout(0.5))\n",
    "pre_trained2_model.add(layers.Dense(128, activation='relu'))\n",
    "pre_trained2_model.add(layers.Dropout(0.5))\n",
    "pre_trained2_model.add(layers.Dense(4, activation='softmax'))\n",
    "\n",
    "pre_trained2_model.compile(optimizer=Adamax(learning_rate=0.001),\n",
    "                           loss='categorical_crossentropy',\n",
    "                           metrics=['accuracy'])\n",
    "\n",
    "pre_trained2_model.summary()"
   ]
  },
  {
   "cell_type": "code",
   "execution_count": null,
   "metadata": {},
   "outputs": [],
   "source": [
    "early_stopping = EarlyStopping(monitor='val_loss', patience=2, restore_best_weights=True)\n",
    "\n",
    "# Fit the new model with early stopping\n",
    "pretrained2_history = pre_trained2_model.fit(\n",
    "    train_generator,\n",
    "    steps_per_epoch=train_steps_per_epoch,\n",
    "    epochs=11,\n",
    "    validation_data=val_generator,\n",
    "    validation_steps=val_steps_per_epoch,\n",
    "    callbacks=[early_stopping])"
   ]
  },
  {
   "cell_type": "code",
   "execution_count": null,
   "metadata": {},
   "outputs": [],
   "source": [
    "# Plot training history\n",
    "plt.plot(pretrained2_history.history['loss'], label='Training Loss')\n",
    "plt.plot(pretrained2_history.history['val_loss'], label='Validation Loss')\n",
    "plt.xlabel('Epochs')\n",
    "plt.ylabel('Loss')\n",
    "plt.legend()\n",
    "plt.show()\n",
    "\n",
    "plt.plot(pretrained2_history.history['accuracy'], label='Training Accuracy')\n",
    "plt.plot(pretrained2_history.history['val_accuracy'], label='Validation Accuracy')\n",
    "plt.xlabel('Epochs')\n",
    "plt.ylabel('Accuracy')\n",
    "plt.legend()\n",
    "plt.show()"
   ]
  },
  {
   "cell_type": "code",
   "execution_count": null,
   "metadata": {},
   "outputs": [],
   "source": [
    "pretrained2_test_metrics = pre_trained2_model.evaluate(test_generator, steps=test_steps_per_epoch)\n",
    "print(\"Test Metrics:\", pretrained2_test_metrics)"
   ]
  },
  {
   "cell_type": "code",
   "execution_count": null,
   "metadata": {},
   "outputs": [],
   "source": [
    "# Get true labels\n",
    "true_labels = []\n",
    "for i in range(test_steps_per_epoch):\n",
    "    _, labels = next(test_generator)\n",
    "    true_labels.extend(np.argmax(labels, axis=1))\n",
    "\n",
    "# Get predicted labels\n",
    "pretrained2_predicted_labels = pre_trained2_model.predict(test_generator, steps=test_steps_per_epoch)\n",
    "pretrained2_predicted_labels = np.argmax(pretrained2_predicted_labels, axis=1)\n",
    "\n",
    "# Create confusion matrix\n",
    "conf_matrix = confusion_matrix(true_labels, pretrained2_predicted_labels)\n",
    "\n",
    "sns.heatmap(conf_matrix, annot=True, fmt='d', cmap='Blues', xticklabels=['Glioma','Meningioma','No Tumor','Pituitary'], yticklabels=['Glioma','Meningioma','No Tumor','Pituitary'])\n",
    "plt.xlabel('Predicted Label')\n",
    "plt.ylabel('True Label')\n",
    "plt.title('Confusion Matrix')\n",
    "plt.show()\n",
    "\n",
    "# Print classification report\n",
    "print(\"Classification Report:\")\n",
    "print(classification_report(true_labels, pretrained2_predicted_labels))"
   ]
  },
  {
   "cell_type": "code",
   "execution_count": null,
   "metadata": {},
   "outputs": [],
   "source": []
  }
 ],
 "metadata": {
  "kernelspec": {
   "display_name": "base",
   "language": "python",
   "name": "python3"
  },
  "language_info": {
   "codemirror_mode": {
    "name": "ipython",
    "version": 3
   },
   "file_extension": ".py",
   "mimetype": "text/x-python",
   "name": "python",
   "nbconvert_exporter": "python",
   "pygments_lexer": "ipython3",
   "version": "3.8.8"
  },
  "orig_nbformat": 4,
  "vscode": {
   "interpreter": {
    "hash": "ad2bdc8ecc057115af97d19610ffacc2b4e99fae6737bb82f5d7fb13d2f2c186"
   }
  }
 },
 "nbformat": 4,
 "nbformat_minor": 2
}
