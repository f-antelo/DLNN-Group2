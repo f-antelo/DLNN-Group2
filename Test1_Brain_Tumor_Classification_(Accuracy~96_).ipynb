{
  "nbformat": 4,
  "nbformat_minor": 0,
  "metadata": {
    "colab": {
      "provenance": [],
      "authorship_tag": "ABX9TyPAJ1bsNjr9qmGYbE3V1iM9",
      "include_colab_link": true
    },
    "kernelspec": {
      "name": "python3",
      "display_name": "Python 3"
    },
    "language_info": {
      "name": "python"
    }
  },
  "cells": [
    {
      "cell_type": "markdown",
      "metadata": {
        "id": "view-in-github",
        "colab_type": "text"
      },
      "source": [
        "<a href=\"https://colab.research.google.com/github/f-antelo/DLNN-Group2/blob/main/Test1_Brain_Tumor_Classification_(Accuracy~96_).ipynb\" target=\"_parent\"><img src=\"https://colab.research.google.com/assets/colab-badge.svg\" alt=\"Open In Colab\"/></a>"
      ]
    },
    {
      "cell_type": "markdown",
      "source": [
        "# **1 | Importing libraries**"
      ],
      "metadata": {
        "id": "OXMDwrF6QPSL"
      }
    },
    {
      "cell_type": "markdown",
      "source": [
        "* For ML Models: Tensorflow, keras\n",
        "* For Data Manipulation: numpy, pandas, sklearn\n",
        "* For Data Visualization: matplotlib, seaborn"
      ],
      "metadata": {
        "id": "3hqFN2YzQV27"
      }
    },
    {
      "cell_type": "code",
      "execution_count": null,
      "metadata": {
        "id": "2Yr5Xgh9QK9o"
      },
      "outputs": [],
      "source": [
        "# For Data Processing\n",
        "import numpy as np\n",
        "from sklearn.utils import shuffle\n",
        "from sklearn.model_selection import train_test_split\n",
        "from sklearn.metrics import classification_report\n",
        "from PIL import Image, ImageEnhance\n",
        "\n",
        "# For ML Models\n",
        "from tensorflow import keras\n",
        "from tensorflow.keras.layers import *\n",
        "from tensorflow.keras.losses import *\n",
        "from tensorflow.keras.models import *\n",
        "from tensorflow.keras.metrics import *\n",
        "from tensorflow.keras.optimizers import *\n",
        "from tensorflow.keras.applications import *\n",
        "from tensorflow.keras.preprocessing.image import load_img\n",
        "\n",
        "# For Data Visualization\n",
        "import matplotlib.pyplot as plt\n",
        "import seaborn as sns\n",
        "\n",
        "# Miscellaneous\n",
        "from tqdm import tqdm\n",
        "import os\n",
        "import random"
      ]
    },
    {
      "cell_type": "markdown",
      "source": [
        "# **2 | Reading the Dataset**"
      ],
      "metadata": {
        "id": "oAXTLWbYQzeP"
      }
    },
    {
      "cell_type": "code",
      "source": [
        "train_dir = '/kaggle/input/masoudnickparvar/brain-tumor-mri-dataset/data/Training/'\n",
        "test_dir = '/kaggle/input/masoudnickparvar/brain-tumor-mri-dataset/data/Testing/'\n",
        "\n",
        "train_paths = []\n",
        "train_labels = []\n",
        "\n",
        "for label in os.listdir(train_dir):\n",
        "    for image in os.listdir(train_dir+label):\n",
        "        train_paths.append(train_dir+label+'/'+image)\n",
        "        train_labels.append(label)\n",
        "\n",
        "train_paths, train_labels = shuffle(train_paths, train_labels)"
      ],
      "metadata": {
        "colab": {
          "base_uri": "https://localhost:8080/",
          "height": 245
        },
        "id": "CVyTpfKLR48G",
        "outputId": "145e6e28-68b0-4d3f-d77a-c5bb30fd4852"
      },
      "execution_count": null,
      "outputs": [
        {
          "output_type": "error",
          "ename": "FileNotFoundError",
          "evalue": "ignored",
          "traceback": [
            "\u001b[0;31m---------------------------------------------------------------------------\u001b[0m",
            "\u001b[0;31mFileNotFoundError\u001b[0m                         Traceback (most recent call last)",
            "\u001b[0;32m<ipython-input-3-024429f8d58e>\u001b[0m in \u001b[0;36m<cell line: 7>\u001b[0;34m()\u001b[0m\n\u001b[1;32m      5\u001b[0m \u001b[0mtrain_labels\u001b[0m \u001b[0;34m=\u001b[0m \u001b[0;34m[\u001b[0m\u001b[0;34m]\u001b[0m\u001b[0;34m\u001b[0m\u001b[0;34m\u001b[0m\u001b[0m\n\u001b[1;32m      6\u001b[0m \u001b[0;34m\u001b[0m\u001b[0m\n\u001b[0;32m----> 7\u001b[0;31m \u001b[0;32mfor\u001b[0m \u001b[0mlabel\u001b[0m \u001b[0;32min\u001b[0m \u001b[0mos\u001b[0m\u001b[0;34m.\u001b[0m\u001b[0mlistdir\u001b[0m\u001b[0;34m(\u001b[0m\u001b[0mtrain_dir\u001b[0m\u001b[0;34m)\u001b[0m\u001b[0;34m:\u001b[0m\u001b[0;34m\u001b[0m\u001b[0;34m\u001b[0m\u001b[0m\n\u001b[0m\u001b[1;32m      8\u001b[0m     \u001b[0;32mfor\u001b[0m \u001b[0mimage\u001b[0m \u001b[0;32min\u001b[0m \u001b[0mos\u001b[0m\u001b[0;34m.\u001b[0m\u001b[0mlistdir\u001b[0m\u001b[0;34m(\u001b[0m\u001b[0mtrain_dir\u001b[0m\u001b[0;34m+\u001b[0m\u001b[0mlabel\u001b[0m\u001b[0;34m)\u001b[0m\u001b[0;34m:\u001b[0m\u001b[0;34m\u001b[0m\u001b[0;34m\u001b[0m\u001b[0m\n\u001b[1;32m      9\u001b[0m         \u001b[0mtrain_paths\u001b[0m\u001b[0;34m.\u001b[0m\u001b[0mappend\u001b[0m\u001b[0;34m(\u001b[0m\u001b[0mtrain_dir\u001b[0m\u001b[0;34m+\u001b[0m\u001b[0mlabel\u001b[0m\u001b[0;34m+\u001b[0m\u001b[0;34m'/'\u001b[0m\u001b[0;34m+\u001b[0m\u001b[0mimage\u001b[0m\u001b[0;34m)\u001b[0m\u001b[0;34m\u001b[0m\u001b[0;34m\u001b[0m\u001b[0m\n",
            "\u001b[0;31mFileNotFoundError\u001b[0m: [Errno 2] No such file or directory: '/kaggle/input/masoudnickparvar/brain-tumor-mri-dataset/data/Training/'"
          ]
        }
      ]
    },
    {
      "cell_type": "code",
      "source": [
        "train_dir = '/kaggle/input/brain-tumor-mri-dataset/Training/'\n",
        "test_dir = '/kaggle/input/brain-tumor-mri-dataset/Testing/'\n",
        "\n",
        "train_paths = []\n",
        "train_labels = []\n",
        "\n",
        "for label in os.listdir(train_dir):\n",
        "    for image in os.listdir(train_dir+label):\n",
        "        train_paths.append(train_dir+label+'/'+image)\n",
        "        train_labels.append(label)\n",
        "\n",
        "train_paths, train_labels = shuffle(train_paths, train_labels)"
      ],
      "metadata": {
        "colab": {
          "base_uri": "https://localhost:8080/",
          "height": 245
        },
        "id": "mFsykAaIQ2-N",
        "outputId": "077990c0-95eb-428b-ba06-eb5bd6658590"
      },
      "execution_count": null,
      "outputs": [
        {
          "output_type": "error",
          "ename": "FileNotFoundError",
          "evalue": "ignored",
          "traceback": [
            "\u001b[0;31m---------------------------------------------------------------------------\u001b[0m",
            "\u001b[0;31mFileNotFoundError\u001b[0m                         Traceback (most recent call last)",
            "\u001b[0;32m<ipython-input-2-64937c8c5101>\u001b[0m in \u001b[0;36m<cell line: 7>\u001b[0;34m()\u001b[0m\n\u001b[1;32m      5\u001b[0m \u001b[0mtrain_labels\u001b[0m \u001b[0;34m=\u001b[0m \u001b[0;34m[\u001b[0m\u001b[0;34m]\u001b[0m\u001b[0;34m\u001b[0m\u001b[0;34m\u001b[0m\u001b[0m\n\u001b[1;32m      6\u001b[0m \u001b[0;34m\u001b[0m\u001b[0m\n\u001b[0;32m----> 7\u001b[0;31m \u001b[0;32mfor\u001b[0m \u001b[0mlabel\u001b[0m \u001b[0;32min\u001b[0m \u001b[0mos\u001b[0m\u001b[0;34m.\u001b[0m\u001b[0mlistdir\u001b[0m\u001b[0;34m(\u001b[0m\u001b[0mtrain_dir\u001b[0m\u001b[0;34m)\u001b[0m\u001b[0;34m:\u001b[0m\u001b[0;34m\u001b[0m\u001b[0;34m\u001b[0m\u001b[0m\n\u001b[0m\u001b[1;32m      8\u001b[0m     \u001b[0;32mfor\u001b[0m \u001b[0mimage\u001b[0m \u001b[0;32min\u001b[0m \u001b[0mos\u001b[0m\u001b[0;34m.\u001b[0m\u001b[0mlistdir\u001b[0m\u001b[0;34m(\u001b[0m\u001b[0mtrain_dir\u001b[0m\u001b[0;34m+\u001b[0m\u001b[0mlabel\u001b[0m\u001b[0;34m)\u001b[0m\u001b[0;34m:\u001b[0m\u001b[0;34m\u001b[0m\u001b[0;34m\u001b[0m\u001b[0m\n\u001b[1;32m      9\u001b[0m         \u001b[0mtrain_paths\u001b[0m\u001b[0;34m.\u001b[0m\u001b[0mappend\u001b[0m\u001b[0;34m(\u001b[0m\u001b[0mtrain_dir\u001b[0m\u001b[0;34m+\u001b[0m\u001b[0mlabel\u001b[0m\u001b[0;34m+\u001b[0m\u001b[0;34m'/'\u001b[0m\u001b[0;34m+\u001b[0m\u001b[0mimage\u001b[0m\u001b[0;34m)\u001b[0m\u001b[0;34m\u001b[0m\u001b[0;34m\u001b[0m\u001b[0m\n",
            "\u001b[0;31mFileNotFoundError\u001b[0m: [Errno 2] No such file or directory: '/kaggle/input/brain-tumor-mri-dataset/Training/'"
          ]
        }
      ]
    },
    {
      "cell_type": "code",
      "source": [
        "plt.figure(figsize=(14,6))\n",
        "colors = ['#4285f4', '#ea4335', '#fbbc05', '#34a853']\n",
        "plt.rcParams.update({'font.size': 14})\n",
        "plt.pie([len([x for x in train_labels if x=='pituitary']),\n",
        "         len([x for x in train_labels if x=='notumor']),\n",
        "         len([x for x in train_labels if x=='meningioma']),\n",
        "         len([x for x in train_labels if x=='glioma'])],\n",
        "        labels=['pituitary','notumor', 'meningioma', 'glioma'],\n",
        "        colors=colors, autopct='%.1f%%', explode=(0.025,0.025,0.025,0.025),\n",
        "        startangle=30);"
      ],
      "metadata": {
        "id": "k0ihSKJwQ9g_"
      },
      "execution_count": null,
      "outputs": []
    },
    {
      "cell_type": "code",
      "source": [
        "test_paths = []\n",
        "test_labels = []\n",
        "\n",
        "for label in os.listdir(test_dir):\n",
        "    for image in os.listdir(test_dir+label):\n",
        "        test_paths.append(test_dir+label+'/'+image)\n",
        "        test_labels.append(label)\n",
        "\n",
        "test_paths, test_labels = shuffle(test_paths, test_labels)\n"
      ],
      "metadata": {
        "id": "6Mgaf-kgRBAD"
      },
      "execution_count": null,
      "outputs": []
    },
    {
      "cell_type": "code",
      "source": [
        "plt.figure(figsize=(14,6))\n",
        "colors = ['#4285f4', '#ea4335', '#fbbc05', '#34a853']\n",
        "plt.rcParams.update({'font.size': 14})\n",
        "plt.pie([len(train_labels), len(test_labels)],\n",
        "        labels=['Train','Test'],\n",
        "        colors=colors, autopct='%.1f%%', explode=(0.05,0),\n",
        "        startangle=30);"
      ],
      "metadata": {
        "id": "s_7RX7mKRDZy"
      },
      "execution_count": null,
      "outputs": []
    }
  ]
}